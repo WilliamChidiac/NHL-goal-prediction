{
 "cells": [
  {
   "cell_type": "code",
   "execution_count": 1,
   "metadata": {},
   "outputs": [],
   "source": [
    "import sys\n",
    "sys.path.append('..')\n",
    "from ift6758.data import get_data\n",
    "from ift6758.features import Game, ShotsEvent, Goal, ShotOnGoal, Player\n",
    "import pandas as pd\n",
    "from typing import List, Tuple, Dict, Any, Iterable"
   ]
  },
  {
   "cell_type": "code",
   "execution_count": 2,
   "metadata": {},
   "outputs": [],
   "source": [
    "def extract_player_data(json_player_data:Dict[str, Any]) -> Dict[int, Player]:\n",
    "    players_dict = {}\n",
    "    for player in json_player_data:\n",
    "        players_dict[player[\"playerId\"]] = Player(player)\n",
    "    return players_dict\n",
    "        \n",
    "def import_game_stats(game_id:int) -> Tuple[List[ShotsEvent], Dict[int, Player]]:\n",
    "    game_data = get_data.retrieve_game_data(game_id, verbose=True)\n",
    "    players_dict = extract_player_data(game_data[\"rosterSpots\"])\n",
    "    events = game_data[\"plays\"]\n",
    "    game : Game = Game.get_game(game_id)\n",
    "    print(\"printing game :\", game)\n",
    "    for event in events:\n",
    "        try:\n",
    "            if event[\"typeDescKey\"] == \"goal\":\n",
    "                e : Goal = Goal(game, event)\n",
    "            elif event[\"typeDescKey\"] == \"shot-on-goal\":\n",
    "                e : ShotOnGoal = ShotOnGoal(game, event)\n",
    "        except KeyError:\n",
    "            continue\n",
    "    return ShotsEvent.get_events_by_game(game_id), players_dict\n",
    "\n",
    "def game_stats_to_table(game_id : int, df : List[Dict[str, Any]] = []) -> List[Dict[str, Any]]:\n",
    "    event_list, players_dict = import_game_stats(game_id)\n",
    "    game: Game = Game.get_game(game_id)\n",
    "    game_dict = game.to_dict()\n",
    "    for event in event_list:\n",
    "        event_json = event.to_dict()\n",
    "        event_json.update(game_dict)\n",
    "        event_json['type'] = event.get_event_type()\n",
    "        df.append(event_json)\n",
    "    return df\n",
    "\n",
    "def games_to_table(game_ids : Iterable) -> pd.DataFrame:\n",
    "    df = []\n",
    "    for game_id in game_ids:\n",
    "        if len(str(game_id)) == 4:\n",
    "            games = get_data.regular_season_game_id_generator(game_id)\n",
    "            for game in games:\n",
    "                print(\"game\", game)\n",
    "                df = game_stats_to_table(game, df)\n",
    "        else:\n",
    "            df = game_stats_to_table(game_id, df)\n",
    "    return pd.DataFrame(df)\n"
   ]
  },
  {
   "cell_type": "code",
   "execution_count": null,
   "metadata": {},
   "outputs": [],
   "source": [
    "df = pd.DataFrame(games_to_table([2017, 2018]))\n",
    "print(df)"
   ]
  },
  {
   "cell_type": "code",
   "execution_count": null,
   "metadata": {},
   "outputs": [],
   "source": [
    "df.to_csv(\"../ift6758/data/preprocessed_data/preprocessed_game_data.csv\", index=False)"
   ]
  },
  {
   "cell_type": "code",
   "execution_count": null,
   "metadata": {},
   "outputs": [],
   "source": [
    "unique_event_types = df['type'].unique()\n",
    "unique_event_types"
   ]
  },
  {
   "cell_type": "code",
   "execution_count": null,
   "metadata": {
    "vscode": {
     "languageId": "powershell"
    }
   },
   "outputs": [],
   "source": [
    "events_with_no_zone_code = df[df['zoneCode'].isna()]\n",
    "events_with_no_zone_code"
   ]
  },
  {
   "cell_type": "code",
   "execution_count": null,
   "metadata": {
    "vscode": {
     "languageId": "powershell"
    }
   },
   "outputs": [],
   "source": [
    "events_with_no_shot_type = df[df['shotType'].isna()]\n",
    "events_with_no_shot_type"
   ]
  },
  {
   "cell_type": "code",
   "execution_count": null,
   "metadata": {
    "vscode": {
     "languageId": "powershell"
    }
   },
   "outputs": [],
   "source": [
    "events_with_no_goalie = df[df['goalieInNetId'].isna()]\n",
    "events_with_no_goalie # net empty of no goalie ?"
   ]
  },
  {
   "cell_type": "code",
   "execution_count": null,
   "metadata": {},
   "outputs": [],
   "source": [
    "# errors ?\n",
    "events_with_no_x_coord = df[df['xCoord'].isna()]\n",
    "events_with_no_x_coord"
   ]
  },
  {
   "cell_type": "code",
   "execution_count": null,
   "metadata": {
    "vscode": {
     "languageId": "powershell"
    }
   },
   "outputs": [],
   "source": [
    "events_with_no_y_coord = df[df['yCoord'].isna()]\n",
    "events_with_no_y_coord"
   ]
  }
 ],
 "metadata": {
  "kernelspec": {
   "display_name": "lab-ift6758",
   "language": "python",
   "name": "python3"
  },
  "language_info": {
   "codemirror_mode": {
    "name": "ipython",
    "version": 3
   },
   "file_extension": ".py",
   "mimetype": "text/x-python",
   "name": "python",
   "nbconvert_exporter": "python",
   "pygments_lexer": "ipython3",
   "version": "3.11.9"
  }
 },
 "nbformat": 4,
 "nbformat_minor": 2
}

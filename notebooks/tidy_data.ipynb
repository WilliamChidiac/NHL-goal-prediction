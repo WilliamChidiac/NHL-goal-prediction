{
 "cells": [
  {
   "cell_type": "code",
   "execution_count": null,
   "metadata": {},
   "outputs": [],
   "source": [
    "import sys\n",
    "sys.path.append('..')\n",
    "from ift6758.features import games_to_table, team_side, trigonometry\n",
    "import pandas as pd\n",
    "pd.set_option('display.max_columns', None)\n",
    "import wandb\n",
    "import os\n",
    "import json\n",
    "from tqdm import tqdm\n",
    "\n",
    "USE_CACHE = True"
   ]
  },
  {
   "cell_type": "code",
   "execution_count": null,
   "metadata": {},
   "outputs": [],
   "source": [
    "if not USE_CACHE:\n",
    "    df = pd.DataFrame(games_to_table(list(range(2016, 2024))))\n",
    "    df.to_csv(\"../ift6758/data/preprocessed_data/preprocessed_game_data_2016_to_2023.csv\")\n",
    "else:\n",
    "    df = pd.read_csv(\"../ift6758/data/preprocessed_data/preprocessed_game_data_2016_to_2023.csv\")\n"
   ]
  },
  {
   "cell_type": "code",
   "execution_count": null,
   "metadata": {},
   "outputs": [],
   "source": [
    "df"
   ]
  },
  {
   "cell_type": "markdown",
   "metadata": {},
   "source": [
    "# compute home team defending side"
   ]
  },
  {
   "cell_type": "code",
   "execution_count": null,
   "metadata": {},
   "outputs": [],
   "source": [
    "if not USE_CACHE:\n",
    "    home_team_defending_side_dict = {}\n",
    "    home_team_defending_side_mismatches = []\n",
    "    home_team_defending_side_not_found = []\n",
    "\n",
    "    for game_id in tqdm(df['id'].unique()):\n",
    "        for period_number in df[df['id'] == game_id]['periodDescriptor_number'].unique():\n",
    "            team_side.populate_home_team_defending_side(game_id, period_number, df, home_team_defending_side_dict, home_team_defending_side_mismatches, home_team_defending_side_not_found)\n",
    "    df = team_side.update_home_team_defending_side(df, home_team_defending_side_dict)\n",
    "    df.to_csv(\"../ift6758/data/preprocessed_data/preprocessed_game_data__regular_season_2016_to_2023_team_side.csv\", index=False)\n",
    "    print(\"Home team defending side mismatches:\", home_team_defending_side_mismatches)\n",
    "    print(\"Home team defending side not found:\", home_team_defending_side_not_found)\n",
    "else:\n",
    "    df = pd.read_csv(\"../ift6758/data/preprocessed_data/preprocessed_game_data__regular_season_2016_to_2023_team_side.csv\")"
   ]
  },
  {
   "cell_type": "markdown",
   "metadata": {},
   "source": [
    "# compute distance"
   ]
  },
  {
   "cell_type": "code",
   "execution_count": null,
   "metadata": {},
   "outputs": [],
   "source": [
    "df['distance_from_net'] = df.apply(trigonometry.compute_distance_from_net, axis=1)\n",
    "df\n"
   ]
  },
  {
   "cell_type": "code",
   "execution_count": null,
   "metadata": {},
   "outputs": [],
   "source": [
    "trigonometry.plot_distances_histogram(df)\n"
   ]
  },
  {
   "cell_type": "markdown",
   "metadata": {},
   "source": [
    "# upload to wandb"
   ]
  },
  {
   "cell_type": "code",
   "execution_count": null,
   "metadata": {},
   "outputs": [],
   "source": [
    "api_key = os.getenv(\"WANDB_API_KEY\") # requires wandb API key in WANDB_API_KEY environment variable\n",
    "with wandb.init(project=\"IFT6758-2024-B05\", job_type=\"load-data\", config={\"seasons\": \"2016-2023\"}, tags=[\"team_side\", \"regular_season\", \"distance_from_net\"], name=\"change distance column name\") as run:\n",
    "\n",
    "    artifact = wandb.Artifact('shot_events', type='dataset', description='regular 2016-2023 seasons data with team side')\n",
    "    table_2016_2017 = wandb.Table(dataframe=df[df[\"season\"] == 20162017])\n",
    "    artifact.add(table_2016_2017, '2016-2017')\n",
    "\n",
    "    table_2017_2018 = wandb.Table(dataframe=df[df[\"season\"] == 20172018])\n",
    "    artifact.add(table_2017_2018, '2017-2018')\n",
    "\n",
    "    table_2018_2019 = wandb.Table(dataframe=df[df[\"season\"] == 20182019])\n",
    "    artifact.add(table_2018_2019, '2018-2019')\n",
    "\n",
    "    table_2019_2020 = wandb.Table(dataframe=df[df[\"season\"] == 20192020])\n",
    "    artifact.add(table_2019_2020, '2019-2020')\n",
    "\n",
    "    table_2020_2021 = wandb.Table(dataframe=df[df[\"season\"] == 20202021])\n",
    "    artifact.add(table_2020_2021, '2020-2021')\n",
    "\n",
    "    table_2021_2022 = wandb.Table(dataframe=df[df[\"season\"] == 20212022])\n",
    "    artifact.add(table_2021_2022, '2021-2022')\n",
    "\n",
    "    table_2022_2023 = wandb.Table(dataframe=df[df[\"season\"] == 20222023])\n",
    "    artifact.add(table_2022_2023, '2022-2023')\n",
    "\n",
    "    table_2023_2024 = wandb.Table(dataframe=df[df[\"season\"] == 20232024])\n",
    "    artifact.add(table_2023_2024, '2023-2024')\n",
    "    \n",
    "    run.log_artifact(artifact)\n",
    "\n"
   ]
  },
  {
   "cell_type": "markdown",
   "metadata": {},
   "source": [
    "# Sanity checks"
   ]
  },
  {
   "cell_type": "code",
   "execution_count": null,
   "metadata": {},
   "outputs": [],
   "source": [
    "df[df.duplicated()]"
   ]
  },
  {
   "cell_type": "code",
   "execution_count": null,
   "metadata": {},
   "outputs": [],
   "source": [
    "unique_event_types = df['type'].unique()\n",
    "unique_event_types"
   ]
  },
  {
   "cell_type": "code",
   "execution_count": null,
   "metadata": {
    "vscode": {
     "languageId": "powershell"
    }
   },
   "outputs": [],
   "source": [
    "events_with_no_zone_code = df[df['zoneCode'].isna()]\n",
    "events_with_no_zone_code"
   ]
  },
  {
   "cell_type": "code",
   "execution_count": null,
   "metadata": {
    "vscode": {
     "languageId": "powershell"
    }
   },
   "outputs": [],
   "source": [
    "events_with_no_shot_type = df[df['shotType'].isna()]\n",
    "events_with_no_shot_type"
   ]
  },
  {
   "cell_type": "code",
   "execution_count": null,
   "metadata": {
    "vscode": {
     "languageId": "powershell"
    }
   },
   "outputs": [],
   "source": [
    "events_with_no_goalie = df[df['goalieInNetId'].isna()]\n",
    "events_with_no_goalie # net empty of no goalie ?"
   ]
  },
  {
   "cell_type": "code",
   "execution_count": null,
   "metadata": {},
   "outputs": [],
   "source": [
    "# errors ?\n",
    "events_with_no_x_coord = df[df['xCoord'].isna()]\n",
    "events_with_no_x_coord"
   ]
  },
  {
   "cell_type": "code",
   "execution_count": null,
   "metadata": {
    "vscode": {
     "languageId": "powershell"
    }
   },
   "outputs": [],
   "source": [
    "events_with_no_y_coord = df[df['yCoord'].isna()]\n",
    "events_with_no_y_coord"
   ]
  }
 ],
 "metadata": {
  "kernelspec": {
   "display_name": "ift-6758-lab-venv",
   "language": "python",
   "name": "python3"
  },
  "language_info": {
   "codemirror_mode": {
    "name": "ipython",
    "version": 3
   },
   "file_extension": ".py",
   "mimetype": "text/x-python",
   "name": "python",
   "nbconvert_exporter": "python",
   "pygments_lexer": "ipython3",
   "version": "3.12.3"
  }
 },
 "nbformat": 4,
 "nbformat_minor": 2
}

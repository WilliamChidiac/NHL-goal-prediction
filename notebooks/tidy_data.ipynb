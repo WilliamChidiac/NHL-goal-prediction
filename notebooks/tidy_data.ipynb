{
 "cells": [
  {
   "cell_type": "code",
   "execution_count": 1,
   "metadata": {},
   "outputs": [],
   "source": [
    "import sys\n",
    "sys.path.append('..')\n",
    "from ift6758.features import games_to_table, team_side\n",
    "import pandas as pd\n",
    "pd.set_option('display.max_columns', None)\n",
    "import wandb\n",
    "import os\n",
    "import json\n",
    "from tqdm import tqdm\n",
    "\n",
    "USE_CACHE = True"
   ]
  },
  {
   "cell_type": "code",
   "execution_count": 2,
   "metadata": {},
   "outputs": [
    {
     "name": "stderr",
     "output_type": "stream",
     "text": [
      "C:\\Users\\dre\\AppData\\Local\\Temp\\ipykernel_40764\\2579115068.py:5: DtypeWarning: Columns (4) have mixed types. Specify dtype option on import or set low_memory=False.\n",
      "  df = pd.read_csv(\"../ift6758/data/preprocessed_data/preprocessed_game_data_2016_to_2023.csv\")\n"
     ]
    }
   ],
   "source": [
    "if not USE_CACHE:\n",
    "    df = pd.DataFrame(games_to_table(list(range(2016, 2024))))\n",
    "    df.to_csv(\"../ift6758/data/preprocessed_data/preprocessed_game_data_2016_to_2023.csv\")\n",
    "else:\n",
    "    df = pd.read_csv(\"../ift6758/data/preprocessed_data/preprocessed_game_data_2016_to_2023.csv\")\n"
   ]
  },
  {
   "cell_type": "code",
   "execution_count": 20,
   "metadata": {},
   "outputs": [
    {
     "data": {
      "text/html": [
       "<div>\n",
       "<style scoped>\n",
       "    .dataframe tbody tr th:only-of-type {\n",
       "        vertical-align: middle;\n",
       "    }\n",
       "\n",
       "    .dataframe tbody tr th {\n",
       "        vertical-align: top;\n",
       "    }\n",
       "\n",
       "    .dataframe thead th {\n",
       "        text-align: right;\n",
       "    }\n",
       "</style>\n",
       "<table border=\"1\" class=\"dataframe\">\n",
       "  <thead>\n",
       "    <tr style=\"text-align: right;\">\n",
       "      <th></th>\n",
       "      <th>Unnamed: 0</th>\n",
       "      <th>eventId</th>\n",
       "      <th>timeInPeriod</th>\n",
       "      <th>periodDescriptor_number</th>\n",
       "      <th>homeTeamDefendingSide</th>\n",
       "      <th>xCoord</th>\n",
       "      <th>yCoord</th>\n",
       "      <th>eventOwnerTeamId</th>\n",
       "      <th>shootingPlayerId</th>\n",
       "      <th>goalieInNetId</th>\n",
       "      <th>shotType</th>\n",
       "      <th>zoneCode</th>\n",
       "      <th>id</th>\n",
       "      <th>gameDate</th>\n",
       "      <th>season</th>\n",
       "      <th>homeTeam_abbrev</th>\n",
       "      <th>homeTeam_score</th>\n",
       "      <th>awayTeam_abbrev</th>\n",
       "      <th>awayTeam_score</th>\n",
       "      <th>awayTeam_id</th>\n",
       "      <th>homeTeam_id</th>\n",
       "      <th>type</th>\n",
       "      <th>scoringPlayerId</th>\n",
       "    </tr>\n",
       "  </thead>\n",
       "  <tbody>\n",
       "    <tr>\n",
       "      <th>0</th>\n",
       "      <td>0</td>\n",
       "      <td>8</td>\n",
       "      <td>01:11</td>\n",
       "      <td>1</td>\n",
       "      <td>left</td>\n",
       "      <td>-77.0</td>\n",
       "      <td>5.0</td>\n",
       "      <td>10</td>\n",
       "      <td>8478483.0</td>\n",
       "      <td>8467950.0</td>\n",
       "      <td>wrist</td>\n",
       "      <td>O</td>\n",
       "      <td>2016020001</td>\n",
       "      <td>2016-10-12</td>\n",
       "      <td>20162017</td>\n",
       "      <td>OTT</td>\n",
       "      <td>5</td>\n",
       "      <td>TOR</td>\n",
       "      <td>4</td>\n",
       "      <td>10</td>\n",
       "      <td>9</td>\n",
       "      <td>ShotOnGoal</td>\n",
       "      <td>NaN</td>\n",
       "    </tr>\n",
       "    <tr>\n",
       "      <th>1</th>\n",
       "      <td>1</td>\n",
       "      <td>11</td>\n",
       "      <td>02:53</td>\n",
       "      <td>1</td>\n",
       "      <td>left</td>\n",
       "      <td>86.0</td>\n",
       "      <td>13.0</td>\n",
       "      <td>9</td>\n",
       "      <td>8467967.0</td>\n",
       "      <td>8475883.0</td>\n",
       "      <td>wrist</td>\n",
       "      <td>O</td>\n",
       "      <td>2016020001</td>\n",
       "      <td>2016-10-12</td>\n",
       "      <td>20162017</td>\n",
       "      <td>OTT</td>\n",
       "      <td>5</td>\n",
       "      <td>TOR</td>\n",
       "      <td>4</td>\n",
       "      <td>10</td>\n",
       "      <td>9</td>\n",
       "      <td>ShotOnGoal</td>\n",
       "      <td>NaN</td>\n",
       "    </tr>\n",
       "    <tr>\n",
       "      <th>2</th>\n",
       "      <td>2</td>\n",
       "      <td>15</td>\n",
       "      <td>04:01</td>\n",
       "      <td>1</td>\n",
       "      <td>left</td>\n",
       "      <td>23.0</td>\n",
       "      <td>-38.0</td>\n",
       "      <td>9</td>\n",
       "      <td>8476879.0</td>\n",
       "      <td>8475883.0</td>\n",
       "      <td>wrist</td>\n",
       "      <td>N</td>\n",
       "      <td>2016020001</td>\n",
       "      <td>2016-10-12</td>\n",
       "      <td>20162017</td>\n",
       "      <td>OTT</td>\n",
       "      <td>5</td>\n",
       "      <td>TOR</td>\n",
       "      <td>4</td>\n",
       "      <td>10</td>\n",
       "      <td>9</td>\n",
       "      <td>ShotOnGoal</td>\n",
       "      <td>NaN</td>\n",
       "    </tr>\n",
       "    <tr>\n",
       "      <th>3</th>\n",
       "      <td>3</td>\n",
       "      <td>16</td>\n",
       "      <td>04:46</td>\n",
       "      <td>1</td>\n",
       "      <td>left</td>\n",
       "      <td>33.0</td>\n",
       "      <td>-15.0</td>\n",
       "      <td>9</td>\n",
       "      <td>8474578.0</td>\n",
       "      <td>8475883.0</td>\n",
       "      <td>slap</td>\n",
       "      <td>O</td>\n",
       "      <td>2016020001</td>\n",
       "      <td>2016-10-12</td>\n",
       "      <td>20162017</td>\n",
       "      <td>OTT</td>\n",
       "      <td>5</td>\n",
       "      <td>TOR</td>\n",
       "      <td>4</td>\n",
       "      <td>10</td>\n",
       "      <td>9</td>\n",
       "      <td>ShotOnGoal</td>\n",
       "      <td>NaN</td>\n",
       "    </tr>\n",
       "    <tr>\n",
       "      <th>4</th>\n",
       "      <td>4</td>\n",
       "      <td>24</td>\n",
       "      <td>06:46</td>\n",
       "      <td>1</td>\n",
       "      <td>left</td>\n",
       "      <td>-34.0</td>\n",
       "      <td>28.0</td>\n",
       "      <td>10</td>\n",
       "      <td>8475716.0</td>\n",
       "      <td>8467950.0</td>\n",
       "      <td>wrist</td>\n",
       "      <td>O</td>\n",
       "      <td>2016020001</td>\n",
       "      <td>2016-10-12</td>\n",
       "      <td>20162017</td>\n",
       "      <td>OTT</td>\n",
       "      <td>5</td>\n",
       "      <td>TOR</td>\n",
       "      <td>4</td>\n",
       "      <td>10</td>\n",
       "      <td>9</td>\n",
       "      <td>ShotOnGoal</td>\n",
       "      <td>NaN</td>\n",
       "    </tr>\n",
       "    <tr>\n",
       "      <th>...</th>\n",
       "      <td>...</td>\n",
       "      <td>...</td>\n",
       "      <td>...</td>\n",
       "      <td>...</td>\n",
       "      <td>...</td>\n",
       "      <td>...</td>\n",
       "      <td>...</td>\n",
       "      <td>...</td>\n",
       "      <td>...</td>\n",
       "      <td>...</td>\n",
       "      <td>...</td>\n",
       "      <td>...</td>\n",
       "      <td>...</td>\n",
       "      <td>...</td>\n",
       "      <td>...</td>\n",
       "      <td>...</td>\n",
       "      <td>...</td>\n",
       "      <td>...</td>\n",
       "      <td>...</td>\n",
       "      <td>...</td>\n",
       "      <td>...</td>\n",
       "      <td>...</td>\n",
       "      <td>...</td>\n",
       "    </tr>\n",
       "    <tr>\n",
       "      <th>604351</th>\n",
       "      <td>604351</td>\n",
       "      <td>935</td>\n",
       "      <td>09:00</td>\n",
       "      <td>3</td>\n",
       "      <td>right</td>\n",
       "      <td>-73.0</td>\n",
       "      <td>-27.0</td>\n",
       "      <td>26</td>\n",
       "      <td>8476479.0</td>\n",
       "      <td>8482821.0</td>\n",
       "      <td>wrist</td>\n",
       "      <td>O</td>\n",
       "      <td>2023021312</td>\n",
       "      <td>2024-04-18</td>\n",
       "      <td>20232024</td>\n",
       "      <td>LAK</td>\n",
       "      <td>5</td>\n",
       "      <td>CHI</td>\n",
       "      <td>4</td>\n",
       "      <td>16</td>\n",
       "      <td>26</td>\n",
       "      <td>ShotOnGoal</td>\n",
       "      <td>NaN</td>\n",
       "    </tr>\n",
       "    <tr>\n",
       "      <th>604352</th>\n",
       "      <td>604352</td>\n",
       "      <td>971</td>\n",
       "      <td>12:41</td>\n",
       "      <td>3</td>\n",
       "      <td>right</td>\n",
       "      <td>-74.0</td>\n",
       "      <td>-21.0</td>\n",
       "      <td>26</td>\n",
       "      <td>8482124.0</td>\n",
       "      <td>8482821.0</td>\n",
       "      <td>wrist</td>\n",
       "      <td>O</td>\n",
       "      <td>2023021312</td>\n",
       "      <td>2024-04-18</td>\n",
       "      <td>20232024</td>\n",
       "      <td>LAK</td>\n",
       "      <td>5</td>\n",
       "      <td>CHI</td>\n",
       "      <td>4</td>\n",
       "      <td>16</td>\n",
       "      <td>26</td>\n",
       "      <td>ShotOnGoal</td>\n",
       "      <td>NaN</td>\n",
       "    </tr>\n",
       "    <tr>\n",
       "      <th>604353</th>\n",
       "      <td>604353</td>\n",
       "      <td>1024</td>\n",
       "      <td>17:28</td>\n",
       "      <td>3</td>\n",
       "      <td>right</td>\n",
       "      <td>-27.0</td>\n",
       "      <td>-27.0</td>\n",
       "      <td>26</td>\n",
       "      <td>8478882.0</td>\n",
       "      <td>8482821.0</td>\n",
       "      <td>slap</td>\n",
       "      <td>O</td>\n",
       "      <td>2023021312</td>\n",
       "      <td>2024-04-18</td>\n",
       "      <td>20232024</td>\n",
       "      <td>LAK</td>\n",
       "      <td>5</td>\n",
       "      <td>CHI</td>\n",
       "      <td>4</td>\n",
       "      <td>16</td>\n",
       "      <td>26</td>\n",
       "      <td>ShotOnGoal</td>\n",
       "      <td>NaN</td>\n",
       "    </tr>\n",
       "    <tr>\n",
       "      <th>604354</th>\n",
       "      <td>604354</td>\n",
       "      <td>1039</td>\n",
       "      <td>18:39</td>\n",
       "      <td>3</td>\n",
       "      <td>right</td>\n",
       "      <td>-74.0</td>\n",
       "      <td>8.0</td>\n",
       "      <td>26</td>\n",
       "      <td>NaN</td>\n",
       "      <td>8482821.0</td>\n",
       "      <td>wrist</td>\n",
       "      <td>O</td>\n",
       "      <td>2023021312</td>\n",
       "      <td>2024-04-18</td>\n",
       "      <td>20232024</td>\n",
       "      <td>LAK</td>\n",
       "      <td>5</td>\n",
       "      <td>CHI</td>\n",
       "      <td>4</td>\n",
       "      <td>16</td>\n",
       "      <td>26</td>\n",
       "      <td>Goal</td>\n",
       "      <td>8478042.0</td>\n",
       "    </tr>\n",
       "    <tr>\n",
       "      <th>604355</th>\n",
       "      <td>604355</td>\n",
       "      <td>1056</td>\n",
       "      <td>00:06</td>\n",
       "      <td>4</td>\n",
       "      <td>left</td>\n",
       "      <td>64.0</td>\n",
       "      <td>-21.0</td>\n",
       "      <td>26</td>\n",
       "      <td>NaN</td>\n",
       "      <td>8482821.0</td>\n",
       "      <td>snap</td>\n",
       "      <td>O</td>\n",
       "      <td>2023021312</td>\n",
       "      <td>2024-04-18</td>\n",
       "      <td>20232024</td>\n",
       "      <td>LAK</td>\n",
       "      <td>5</td>\n",
       "      <td>CHI</td>\n",
       "      <td>4</td>\n",
       "      <td>16</td>\n",
       "      <td>26</td>\n",
       "      <td>Goal</td>\n",
       "      <td>8477960.0</td>\n",
       "    </tr>\n",
       "  </tbody>\n",
       "</table>\n",
       "<p>604356 rows × 23 columns</p>\n",
       "</div>"
      ],
      "text/plain": [
       "        Unnamed: 0  eventId timeInPeriod  periodDescriptor_number  \\\n",
       "0                0        8        01:11                        1   \n",
       "1                1       11        02:53                        1   \n",
       "2                2       15        04:01                        1   \n",
       "3                3       16        04:46                        1   \n",
       "4                4       24        06:46                        1   \n",
       "...            ...      ...          ...                      ...   \n",
       "604351      604351      935        09:00                        3   \n",
       "604352      604352      971        12:41                        3   \n",
       "604353      604353     1024        17:28                        3   \n",
       "604354      604354     1039        18:39                        3   \n",
       "604355      604355     1056        00:06                        4   \n",
       "\n",
       "       homeTeamDefendingSide  xCoord  yCoord  eventOwnerTeamId  \\\n",
       "0                       left   -77.0     5.0                10   \n",
       "1                       left    86.0    13.0                 9   \n",
       "2                       left    23.0   -38.0                 9   \n",
       "3                       left    33.0   -15.0                 9   \n",
       "4                       left   -34.0    28.0                10   \n",
       "...                      ...     ...     ...               ...   \n",
       "604351                 right   -73.0   -27.0                26   \n",
       "604352                 right   -74.0   -21.0                26   \n",
       "604353                 right   -27.0   -27.0                26   \n",
       "604354                 right   -74.0     8.0                26   \n",
       "604355                  left    64.0   -21.0                26   \n",
       "\n",
       "        shootingPlayerId  goalieInNetId shotType zoneCode          id  \\\n",
       "0              8478483.0      8467950.0    wrist        O  2016020001   \n",
       "1              8467967.0      8475883.0    wrist        O  2016020001   \n",
       "2              8476879.0      8475883.0    wrist        N  2016020001   \n",
       "3              8474578.0      8475883.0     slap        O  2016020001   \n",
       "4              8475716.0      8467950.0    wrist        O  2016020001   \n",
       "...                  ...            ...      ...      ...         ...   \n",
       "604351         8476479.0      8482821.0    wrist        O  2023021312   \n",
       "604352         8482124.0      8482821.0    wrist        O  2023021312   \n",
       "604353         8478882.0      8482821.0     slap        O  2023021312   \n",
       "604354               NaN      8482821.0    wrist        O  2023021312   \n",
       "604355               NaN      8482821.0     snap        O  2023021312   \n",
       "\n",
       "          gameDate    season homeTeam_abbrev  homeTeam_score awayTeam_abbrev  \\\n",
       "0       2016-10-12  20162017             OTT               5             TOR   \n",
       "1       2016-10-12  20162017             OTT               5             TOR   \n",
       "2       2016-10-12  20162017             OTT               5             TOR   \n",
       "3       2016-10-12  20162017             OTT               5             TOR   \n",
       "4       2016-10-12  20162017             OTT               5             TOR   \n",
       "...            ...       ...             ...             ...             ...   \n",
       "604351  2024-04-18  20232024             LAK               5             CHI   \n",
       "604352  2024-04-18  20232024             LAK               5             CHI   \n",
       "604353  2024-04-18  20232024             LAK               5             CHI   \n",
       "604354  2024-04-18  20232024             LAK               5             CHI   \n",
       "604355  2024-04-18  20232024             LAK               5             CHI   \n",
       "\n",
       "        awayTeam_score  awayTeam_id  homeTeam_id        type  scoringPlayerId  \n",
       "0                    4           10            9  ShotOnGoal              NaN  \n",
       "1                    4           10            9  ShotOnGoal              NaN  \n",
       "2                    4           10            9  ShotOnGoal              NaN  \n",
       "3                    4           10            9  ShotOnGoal              NaN  \n",
       "4                    4           10            9  ShotOnGoal              NaN  \n",
       "...                ...          ...          ...         ...              ...  \n",
       "604351               4           16           26  ShotOnGoal              NaN  \n",
       "604352               4           16           26  ShotOnGoal              NaN  \n",
       "604353               4           16           26  ShotOnGoal              NaN  \n",
       "604354               4           16           26        Goal        8478042.0  \n",
       "604355               4           16           26        Goal        8477960.0  \n",
       "\n",
       "[604356 rows x 23 columns]"
      ]
     },
     "execution_count": 20,
     "metadata": {},
     "output_type": "execute_result"
    }
   ],
   "source": [
    "df"
   ]
  },
  {
   "cell_type": "markdown",
   "metadata": {},
   "source": [
    "# compute home team defending side"
   ]
  },
  {
   "cell_type": "code",
   "execution_count": 4,
   "metadata": {},
   "outputs": [],
   "source": [
    "if not USE_CACHE:\n",
    "    home_team_defending_side_dict = {}\n",
    "    home_team_defending_side_mismatches = []\n",
    "    home_team_defending_side_not_found = []\n",
    "\n",
    "    for game_id in tqdm(df['id'].unique()):\n",
    "        for period_number in df[df['id'] == game_id]['periodDescriptor_number'].unique():\n",
    "            team_side.populate_home_team_defending_side(game_id, period_number, df, home_team_defending_side_dict, home_team_defending_side_mismatches, home_team_defending_side_not_found)\n",
    "    df = team_side.update_home_team_defending_side(df, home_team_defending_side_dict)\n",
    "    df.to_csv(\"../ift6758/data/preprocessed_data/preprocessed_game_data__regular_season_2016_to_2023_team_side.csv\", index=False)\n",
    "else:\n",
    "    df = pd.read_csv(\"../ift6758/data/preprocessed_data/preprocessed_game_data__regular_season_2016_to_2023_team_side.csv\")"
   ]
  },
  {
   "cell_type": "code",
   "execution_count": null,
   "metadata": {},
   "outputs": [
    {
     "data": {
      "text/plain": [
       "[(2019020019, 4),\n",
       " (2019020249, 1),\n",
       " (2019020249, 2),\n",
       " (2019020249, 3),\n",
       " (2019020256, 1),\n",
       " (2019020256, 2),\n",
       " (2019020256, 3),\n",
       " (2019020267, 2),\n",
       " (2019020408, 2),\n",
       " (2020020175, 3)]"
      ]
     },
     "execution_count": 7,
     "metadata": {},
     "output_type": "execute_result"
    }
   ],
   "source": [
    "home_team_defending_side_mismatches # likely errors in data, because only 10 mismatches over 600k events"
   ]
  },
  {
   "cell_type": "code",
   "execution_count": null,
   "metadata": {},
   "outputs": [
    {
     "data": {
      "text/plain": [
       "[(2017020533, 5)]"
      ]
     },
     "execution_count": 8,
     "metadata": {},
     "output_type": "execute_result"
    }
   ],
   "source": [
    "home_team_defending_side_not_found # todo: fill in manually"
   ]
  },
  {
   "cell_type": "markdown",
   "metadata": {},
   "source": [
    "# upload to wandb"
   ]
  },
  {
   "cell_type": "code",
   "execution_count": null,
   "metadata": {},
   "outputs": [
    {
     "data": {
      "text/html": [
       "Tracking run with wandb version 0.18.5"
      ],
      "text/plain": [
       "<IPython.core.display.HTML object>"
      ]
     },
     "metadata": {},
     "output_type": "display_data"
    },
    {
     "data": {
      "text/html": [
       "Run data is saved locally in <code>c:\\Users\\dre\\Documents\\agrosante_udem\\cours\\data_science\\nhl project\\IFT-6758-project\\notebooks\\wandb\\run-20241113_215518-850vuv1z</code>"
      ],
      "text/plain": [
       "<IPython.core.display.HTML object>"
      ]
     },
     "metadata": {},
     "output_type": "display_data"
    },
    {
     "data": {
      "text/html": [
       "Syncing run <strong><a href='https://wandb.ai/IFT6758-2024-B05/IFT6758-2024-B05/runs/850vuv1z' target=\"_blank\">true-snowball-7</a></strong> to <a href='https://wandb.ai/IFT6758-2024-B05/IFT6758-2024-B05' target=\"_blank\">Weights & Biases</a> (<a href='https://wandb.me/run' target=\"_blank\">docs</a>)<br/>"
      ],
      "text/plain": [
       "<IPython.core.display.HTML object>"
      ]
     },
     "metadata": {},
     "output_type": "display_data"
    },
    {
     "data": {
      "text/html": [
       " View project at <a href='https://wandb.ai/IFT6758-2024-B05/IFT6758-2024-B05' target=\"_blank\">https://wandb.ai/IFT6758-2024-B05/IFT6758-2024-B05</a>"
      ],
      "text/plain": [
       "<IPython.core.display.HTML object>"
      ]
     },
     "metadata": {},
     "output_type": "display_data"
    },
    {
     "data": {
      "text/html": [
       " View run at <a href='https://wandb.ai/IFT6758-2024-B05/IFT6758-2024-B05/runs/850vuv1z' target=\"_blank\">https://wandb.ai/IFT6758-2024-B05/IFT6758-2024-B05/runs/850vuv1z</a>"
      ],
      "text/plain": [
       "<IPython.core.display.HTML object>"
      ]
     },
     "metadata": {},
     "output_type": "display_data"
    },
    {
     "data": {
      "application/vnd.jupyter.widget-view+json": {
       "model_id": "f983837ce88e4a7a87e50f943bd7655f",
       "version_major": 2,
       "version_minor": 0
      },
      "text/plain": [
       "VBox(children=(Label(value='3.520 MB of 84.800 MB uploaded\\r'), FloatProgress(value=0.041509974368914467, max=…"
      ]
     },
     "metadata": {},
     "output_type": "display_data"
    },
    {
     "data": {
      "text/html": [
       " View run <strong style=\"color:#cdcd00\">true-snowball-7</strong> at: <a href='https://wandb.ai/IFT6758-2024-B05/IFT6758-2024-B05/runs/850vuv1z' target=\"_blank\">https://wandb.ai/IFT6758-2024-B05/IFT6758-2024-B05/runs/850vuv1z</a><br/> View project at: <a href='https://wandb.ai/IFT6758-2024-B05/IFT6758-2024-B05' target=\"_blank\">https://wandb.ai/IFT6758-2024-B05/IFT6758-2024-B05</a><br/>Synced 5 W&B file(s), 0 media file(s), 8 artifact file(s) and 0 other file(s)"
      ],
      "text/plain": [
       "<IPython.core.display.HTML object>"
      ]
     },
     "metadata": {},
     "output_type": "display_data"
    },
    {
     "data": {
      "text/html": [
       "Find logs at: <code>.\\wandb\\run-20241113_215518-850vuv1z\\logs</code>"
      ],
      "text/plain": [
       "<IPython.core.display.HTML object>"
      ]
     },
     "metadata": {},
     "output_type": "display_data"
    }
   ],
   "source": [
    "api_key = os.getenv(\"WANDB_API_KEY\") # requires wandb API key in WANDB_API_KEY environment variable\n",
    "with wandb.init(project=\"IFT6758-2024-B05\", job_type=\"load-data\", config={\"seasons\": \"2016-2023\"}, tags=[\"team_side\", \"regular_season\"]) as run:\n",
    "\n",
    "    artifact = wandb.Artifact('shot_events', type='dataset', description='regular 2016-2023 seasons data with team side')\n",
    "    table_2016_2017 = wandb.Table(dataframe=df[df[\"season\"] == 20162017])\n",
    "    artifact.add(table_2016_2017, '2016-2017')\n",
    "\n",
    "    table_2017_2018 = wandb.Table(dataframe=df[df[\"season\"] == 20172018])\n",
    "    artifact.add(table_2017_2018, '2017-2018')\n",
    "\n",
    "    table_2018_2019 = wandb.Table(dataframe=df[df[\"season\"] == 20182019])\n",
    "    artifact.add(table_2018_2019, '2018-2019')\n",
    "\n",
    "    table_2019_2020 = wandb.Table(dataframe=df[df[\"season\"] == 20192020])\n",
    "    artifact.add(table_2019_2020, '2019-2020')\n",
    "\n",
    "    table_2020_2021 = wandb.Table(dataframe=df[df[\"season\"] == 20202021])\n",
    "    artifact.add(table_2020_2021, '2020-2021')\n",
    "\n",
    "    table_2021_2022 = wandb.Table(dataframe=df[df[\"season\"] == 20212022])\n",
    "    artifact.add(table_2021_2022, '2021-2022')\n",
    "\n",
    "    table_2022_2023 = wandb.Table(dataframe=df[df[\"season\"] == 20222023])\n",
    "    artifact.add(table_2022_2023, '2022-2023')\n",
    "\n",
    "    table_2023_2024 = wandb.Table(dataframe=df[df[\"season\"] == 20232024])\n",
    "    artifact.add(table_2023_2024, '2023-2024')\n",
    "    \n",
    "    run.log_artifact(artifact)\n",
    "\n"
   ]
  },
  {
   "cell_type": "markdown",
   "metadata": {},
   "source": [
    "# Download from wandb"
   ]
  },
  {
   "cell_type": "code",
   "execution_count": null,
   "metadata": {},
   "outputs": [
    {
     "name": "stderr",
     "output_type": "stream",
     "text": [
      "wandb: Downloading large artifact shot_events:latest, 98.23MB. 8 files... \n",
      "wandb:   8 of 8 files downloaded.  \n",
      "Done. 0:0:0.2\n"
     ]
    },
    {
     "name": "stdout",
     "output_type": "stream",
     "text": [
      "Artifact downloaded to: ../ift6758/data/wandb_artifacts/shot_events\n"
     ]
    }
   ],
   "source": [
    "api = wandb.Api()\n",
    "\n",
    "project_name = \"IFT6758-2024-B05\"\n",
    "artifact_name = \"shot_events:latest\"\n",
    "\n",
    "artifact = api.artifact(f\"{project_name}/{artifact_name}\")\n",
    "artifact_dir = artifact.download(root=f\"../ift6758/data/wandb_artifacts/shot_events\")\n",
    "\n",
    "print(f\"Artifact downloaded to: {artifact_dir}\")"
   ]
  },
  {
   "cell_type": "code",
   "execution_count": null,
   "metadata": {},
   "outputs": [],
   "source": [
    "with open(\"artifacts/shot_events-v2/2016-2017.table.json\", \"r\") as file:\n",
    "\ttable = json.load(file)\n",
    "\n",
    "df = pd.DataFrame(data=table['data'], columns=table['columns']) # https://community.wandb.ai/t/table-artifact-to-pandas-dataframe/2059"
   ]
  },
  {
   "cell_type": "markdown",
   "metadata": {},
   "source": [
    "# Sanity checks"
   ]
  },
  {
   "cell_type": "code",
   "execution_count": 4,
   "metadata": {},
   "outputs": [
    {
     "data": {
      "text/html": [
       "<div>\n",
       "<style scoped>\n",
       "    .dataframe tbody tr th:only-of-type {\n",
       "        vertical-align: middle;\n",
       "    }\n",
       "\n",
       "    .dataframe tbody tr th {\n",
       "        vertical-align: top;\n",
       "    }\n",
       "\n",
       "    .dataframe thead th {\n",
       "        text-align: right;\n",
       "    }\n",
       "</style>\n",
       "<table border=\"1\" class=\"dataframe\">\n",
       "  <thead>\n",
       "    <tr style=\"text-align: right;\">\n",
       "      <th></th>\n",
       "      <th>Unnamed: 0</th>\n",
       "      <th>eventId</th>\n",
       "      <th>timeInPeriod</th>\n",
       "      <th>periodDescriptor_number</th>\n",
       "      <th>homeTeamDefendingSide</th>\n",
       "      <th>xCoord</th>\n",
       "      <th>yCoord</th>\n",
       "      <th>eventOwnerTeamId</th>\n",
       "      <th>shootingPlayerId</th>\n",
       "      <th>goalieInNetId</th>\n",
       "      <th>shotType</th>\n",
       "      <th>zoneCode</th>\n",
       "      <th>id</th>\n",
       "      <th>gameDate</th>\n",
       "      <th>season</th>\n",
       "      <th>homeTeam_abbrev</th>\n",
       "      <th>homeTeam_score</th>\n",
       "      <th>awayTeam_abbrev</th>\n",
       "      <th>awayTeam_score</th>\n",
       "      <th>awayTeam_id</th>\n",
       "      <th>homeTeam_id</th>\n",
       "      <th>type</th>\n",
       "      <th>scoringPlayerId</th>\n",
       "    </tr>\n",
       "  </thead>\n",
       "  <tbody>\n",
       "  </tbody>\n",
       "</table>\n",
       "</div>"
      ],
      "text/plain": [
       "Empty DataFrame\n",
       "Columns: [Unnamed: 0, eventId, timeInPeriod, periodDescriptor_number, homeTeamDefendingSide, xCoord, yCoord, eventOwnerTeamId, shootingPlayerId, goalieInNetId, shotType, zoneCode, id, gameDate, season, homeTeam_abbrev, homeTeam_score, awayTeam_abbrev, awayTeam_score, awayTeam_id, homeTeam_id, type, scoringPlayerId]\n",
       "Index: []"
      ]
     },
     "execution_count": 4,
     "metadata": {},
     "output_type": "execute_result"
    }
   ],
   "source": [
    "df[df.duplicated()]"
   ]
  },
  {
   "cell_type": "code",
   "execution_count": null,
   "metadata": {},
   "outputs": [],
   "source": [
    "unique_event_types = df['type'].unique()\n",
    "unique_event_types"
   ]
  },
  {
   "cell_type": "code",
   "execution_count": null,
   "metadata": {
    "vscode": {
     "languageId": "powershell"
    }
   },
   "outputs": [],
   "source": [
    "events_with_no_zone_code = df[df['zoneCode'].isna()]\n",
    "events_with_no_zone_code"
   ]
  },
  {
   "cell_type": "code",
   "execution_count": null,
   "metadata": {
    "vscode": {
     "languageId": "powershell"
    }
   },
   "outputs": [],
   "source": [
    "events_with_no_shot_type = df[df['shotType'].isna()]\n",
    "events_with_no_shot_type"
   ]
  },
  {
   "cell_type": "code",
   "execution_count": null,
   "metadata": {
    "vscode": {
     "languageId": "powershell"
    }
   },
   "outputs": [],
   "source": [
    "events_with_no_goalie = df[df['goalieInNetId'].isna()]\n",
    "events_with_no_goalie # net empty of no goalie ?"
   ]
  },
  {
   "cell_type": "code",
   "execution_count": null,
   "metadata": {},
   "outputs": [],
   "source": [
    "# errors ?\n",
    "events_with_no_x_coord = df[df['xCoord'].isna()]\n",
    "events_with_no_x_coord"
   ]
  },
  {
   "cell_type": "code",
   "execution_count": null,
   "metadata": {
    "vscode": {
     "languageId": "powershell"
    }
   },
   "outputs": [],
   "source": [
    "events_with_no_y_coord = df[df['yCoord'].isna()]\n",
    "events_with_no_y_coord"
   ]
  }
 ],
 "metadata": {
  "kernelspec": {
   "display_name": "ift-6758-lab-venv",
   "language": "python",
   "name": "python3"
  },
  "language_info": {
   "codemirror_mode": {
    "name": "ipython",
    "version": 3
   },
   "file_extension": ".py",
   "mimetype": "text/x-python",
   "name": "python",
   "nbconvert_exporter": "python",
   "pygments_lexer": "ipython3",
   "version": "3.12.3"
  }
 },
 "nbformat": 4,
 "nbformat_minor": 2
}

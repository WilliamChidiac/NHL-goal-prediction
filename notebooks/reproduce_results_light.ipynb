{
 "cells": [
  {
   "cell_type": "code",
   "execution_count": null,
   "metadata": {},
   "outputs": [
    {
     "name": "stderr",
     "output_type": "stream",
     "text": [
      "wandb: WARNING If you're specifying your api key in code, ensure this code is not shared publicly.\n",
      "wandb: WARNING Consider setting the WANDB_API_KEY environment variable, or running `wandb login` from the command line.\n",
      "wandb: Appending key for api.wandb.ai to your netrc file: C:\\Users\\dre\\_netrc\n"
     ]
    },
    {
     "name": "stdout",
     "output_type": "stream",
     "text": [
      "Using cached data for game id:  2017020003\n",
      "using cached data for game id:  2017020003.json\n",
      "printing game : Game 2017020003 on 2017-10-04 between (22, 'EDM', 3) and (20, 'CGY', 0)\n"
     ]
    },
    {
     "name": "stderr",
     "output_type": "stream",
     "text": [
      "c:\\users\\dre\\documents\\agrosante_udem\\cours\\data_science\\nhl project\\ift-6758-project\\ift6758\\ift6758\\features\\feature_engineering_II.py:136: FutureWarning: A value is trying to be set on a copy of a DataFrame or Series through chained assignment using an inplace method.\n",
      "The behavior will change in pandas 3.0. This inplace method will never work because the intermediate object on which we are setting values always behaves as a copy.\n",
      "\n",
      "For example, when doing 'df[col].method(value, inplace=True)', try using 'df.method({col: value}, inplace=True)' or df[col] = df[col].method(value) instead, to perform the operation inplace on the original object.\n",
      "\n",
      "\n",
      "  self.df[column].fillna(self.df[column].value_counts().idxmax(), inplace=True)\n",
      "c:\\users\\dre\\documents\\agrosante_udem\\cours\\data_science\\nhl project\\ift-6758-project\\ift6758\\ift6758\\features\\feature_engineering_II.py:136: FutureWarning: A value is trying to be set on a copy of a DataFrame or Series through chained assignment using an inplace method.\n",
      "The behavior will change in pandas 3.0. This inplace method will never work because the intermediate object on which we are setting values always behaves as a copy.\n",
      "\n",
      "For example, when doing 'df[col].method(value, inplace=True)', try using 'df.method({col: value}, inplace=True)' or df[col] = df[col].method(value) instead, to perform the operation inplace on the original object.\n",
      "\n",
      "\n",
      "  self.df[column].fillna(self.df[column].value_counts().idxmax(), inplace=True)\n",
      "c:\\users\\dre\\documents\\agrosante_udem\\cours\\data_science\\nhl project\\ift-6758-project\\ift6758\\ift6758\\features\\feature_engineering_II.py:136: FutureWarning: A value is trying to be set on a copy of a DataFrame or Series through chained assignment using an inplace method.\n",
      "The behavior will change in pandas 3.0. This inplace method will never work because the intermediate object on which we are setting values always behaves as a copy.\n",
      "\n",
      "For example, when doing 'df[col].method(value, inplace=True)', try using 'df.method({col: value}, inplace=True)' or df[col] = df[col].method(value) instead, to perform the operation inplace on the original object.\n",
      "\n",
      "\n",
      "  self.df[column].fillna(self.df[column].value_counts().idxmax(), inplace=True)\n",
      "c:\\users\\dre\\documents\\agrosante_udem\\cours\\data_science\\nhl project\\ift-6758-project\\ift6758\\ift6758\\features\\feature_engineering_II.py:136: FutureWarning: A value is trying to be set on a copy of a DataFrame or Series through chained assignment using an inplace method.\n",
      "The behavior will change in pandas 3.0. This inplace method will never work because the intermediate object on which we are setting values always behaves as a copy.\n",
      "\n",
      "For example, when doing 'df[col].method(value, inplace=True)', try using 'df.method({col: value}, inplace=True)' or df[col] = df[col].method(value) instead, to perform the operation inplace on the original object.\n",
      "\n",
      "\n",
      "  self.df[column].fillna(self.df[column].value_counts().idxmax(), inplace=True)\n",
      "c:\\users\\dre\\documents\\agrosante_udem\\cours\\data_science\\nhl project\\ift-6758-project\\ift6758\\ift6758\\features\\feature_engineering_II.py:136: FutureWarning: A value is trying to be set on a copy of a DataFrame or Series through chained assignment using an inplace method.\n",
      "The behavior will change in pandas 3.0. This inplace method will never work because the intermediate object on which we are setting values always behaves as a copy.\n",
      "\n",
      "For example, when doing 'df[col].method(value, inplace=True)', try using 'df.method({col: value}, inplace=True)' or df[col] = df[col].method(value) instead, to perform the operation inplace on the original object.\n",
      "\n",
      "\n",
      "  self.df[column].fillna(self.df[column].value_counts().idxmax(), inplace=True)\n",
      "c:\\users\\dre\\documents\\agrosante_udem\\cours\\data_science\\nhl project\\ift-6758-project\\ift6758\\ift6758\\features\\feature_engineering_II.py:136: FutureWarning: A value is trying to be set on a copy of a DataFrame or Series through chained assignment using an inplace method.\n",
      "The behavior will change in pandas 3.0. This inplace method will never work because the intermediate object on which we are setting values always behaves as a copy.\n",
      "\n",
      "For example, when doing 'df[col].method(value, inplace=True)', try using 'df.method({col: value}, inplace=True)' or df[col] = df[col].method(value) instead, to perform the operation inplace on the original object.\n",
      "\n",
      "\n",
      "  self.df[column].fillna(self.df[column].value_counts().idxmax(), inplace=True)\n",
      "c:\\users\\dre\\documents\\agrosante_udem\\cours\\data_science\\nhl project\\ift-6758-project\\ift6758\\ift6758\\features\\feature_engineering_II.py:136: FutureWarning: A value is trying to be set on a copy of a DataFrame or Series through chained assignment using an inplace method.\n",
      "The behavior will change in pandas 3.0. This inplace method will never work because the intermediate object on which we are setting values always behaves as a copy.\n",
      "\n",
      "For example, when doing 'df[col].method(value, inplace=True)', try using 'df.method({col: value}, inplace=True)' or df[col] = df[col].method(value) instead, to perform the operation inplace on the original object.\n",
      "\n",
      "\n",
      "  self.df[column].fillna(self.df[column].value_counts().idxmax(), inplace=True)\n",
      "c:\\users\\dre\\documents\\agrosante_udem\\cours\\data_science\\nhl project\\ift-6758-project\\ift6758\\ift6758\\features\\feature_engineering_II.py:136: FutureWarning: A value is trying to be set on a copy of a DataFrame or Series through chained assignment using an inplace method.\n",
      "The behavior will change in pandas 3.0. This inplace method will never work because the intermediate object on which we are setting values always behaves as a copy.\n",
      "\n",
      "For example, when doing 'df[col].method(value, inplace=True)', try using 'df.method({col: value}, inplace=True)' or df[col] = df[col].method(value) instead, to perform the operation inplace on the original object.\n",
      "\n",
      "\n",
      "  self.df[column].fillna(self.df[column].value_counts().idxmax(), inplace=True)\n",
      "c:\\users\\dre\\documents\\agrosante_udem\\cours\\data_science\\nhl project\\ift-6758-project\\ift6758\\ift6758\\features\\feature_engineering_II.py:136: FutureWarning: A value is trying to be set on a copy of a DataFrame or Series through chained assignment using an inplace method.\n",
      "The behavior will change in pandas 3.0. This inplace method will never work because the intermediate object on which we are setting values always behaves as a copy.\n",
      "\n",
      "For example, when doing 'df[col].method(value, inplace=True)', try using 'df.method({col: value}, inplace=True)' or df[col] = df[col].method(value) instead, to perform the operation inplace on the original object.\n",
      "\n",
      "\n",
      "  self.df[column].fillna(self.df[column].value_counts().idxmax(), inplace=True)\n",
      "c:\\users\\dre\\documents\\agrosante_udem\\cours\\data_science\\nhl project\\ift-6758-project\\ift6758\\ift6758\\features\\feature_engineering_II.py:136: FutureWarning: A value is trying to be set on a copy of a DataFrame or Series through chained assignment using an inplace method.\n",
      "The behavior will change in pandas 3.0. This inplace method will never work because the intermediate object on which we are setting values always behaves as a copy.\n",
      "\n",
      "For example, when doing 'df[col].method(value, inplace=True)', try using 'df.method({col: value}, inplace=True)' or df[col] = df[col].method(value) instead, to perform the operation inplace on the original object.\n",
      "\n",
      "\n",
      "  self.df[column].fillna(self.df[column].value_counts().idxmax(), inplace=True)\n",
      "c:\\users\\dre\\documents\\agrosante_udem\\cours\\data_science\\nhl project\\ift-6758-project\\ift6758\\ift6758\\features\\feature_engineering_II.py:136: FutureWarning: A value is trying to be set on a copy of a DataFrame or Series through chained assignment using an inplace method.\n",
      "The behavior will change in pandas 3.0. This inplace method will never work because the intermediate object on which we are setting values always behaves as a copy.\n",
      "\n",
      "For example, when doing 'df[col].method(value, inplace=True)', try using 'df.method({col: value}, inplace=True)' or df[col] = df[col].method(value) instead, to perform the operation inplace on the original object.\n",
      "\n",
      "\n",
      "  self.df[column].fillna(self.df[column].value_counts().idxmax(), inplace=True)\n",
      "c:\\users\\dre\\documents\\agrosante_udem\\cours\\data_science\\nhl project\\ift-6758-project\\ift6758\\ift6758\\features\\feature_engineering_II.py:136: FutureWarning: A value is trying to be set on a copy of a DataFrame or Series through chained assignment using an inplace method.\n",
      "The behavior will change in pandas 3.0. This inplace method will never work because the intermediate object on which we are setting values always behaves as a copy.\n",
      "\n",
      "For example, when doing 'df[col].method(value, inplace=True)', try using 'df.method({col: value}, inplace=True)' or df[col] = df[col].method(value) instead, to perform the operation inplace on the original object.\n",
      "\n",
      "\n",
      "  self.df[column].fillna(self.df[column].value_counts().idxmax(), inplace=True)\n",
      "c:\\users\\dre\\documents\\agrosante_udem\\cours\\data_science\\nhl project\\ift-6758-project\\ift6758\\ift6758\\features\\feature_engineering_II.py:136: FutureWarning: A value is trying to be set on a copy of a DataFrame or Series through chained assignment using an inplace method.\n",
      "The behavior will change in pandas 3.0. This inplace method will never work because the intermediate object on which we are setting values always behaves as a copy.\n",
      "\n",
      "For example, when doing 'df[col].method(value, inplace=True)', try using 'df.method({col: value}, inplace=True)' or df[col] = df[col].method(value) instead, to perform the operation inplace on the original object.\n",
      "\n",
      "\n",
      "  self.df[column].fillna(self.df[column].value_counts().idxmax(), inplace=True)\n",
      "c:\\users\\dre\\documents\\agrosante_udem\\cours\\data_science\\nhl project\\ift-6758-project\\ift6758\\ift6758\\features\\feature_engineering_II.py:136: FutureWarning: A value is trying to be set on a copy of a DataFrame or Series through chained assignment using an inplace method.\n",
      "The behavior will change in pandas 3.0. This inplace method will never work because the intermediate object on which we are setting values always behaves as a copy.\n",
      "\n",
      "For example, when doing 'df[col].method(value, inplace=True)', try using 'df.method({col: value}, inplace=True)' or df[col] = df[col].method(value) instead, to perform the operation inplace on the original object.\n",
      "\n",
      "\n",
      "  self.df[column].fillna(self.df[column].value_counts().idxmax(), inplace=True)\n",
      "c:\\users\\dre\\documents\\agrosante_udem\\cours\\data_science\\nhl project\\ift-6758-project\\ift6758\\ift6758\\features\\feature_engineering_II.py:136: FutureWarning: A value is trying to be set on a copy of a DataFrame or Series through chained assignment using an inplace method.\n",
      "The behavior will change in pandas 3.0. This inplace method will never work because the intermediate object on which we are setting values always behaves as a copy.\n",
      "\n",
      "For example, when doing 'df[col].method(value, inplace=True)', try using 'df.method({col: value}, inplace=True)' or df[col] = df[col].method(value) instead, to perform the operation inplace on the original object.\n",
      "\n",
      "\n",
      "  self.df[column].fillna(self.df[column].value_counts().idxmax(), inplace=True)\n",
      "c:\\users\\dre\\documents\\agrosante_udem\\cours\\data_science\\nhl project\\ift-6758-project\\ift6758\\ift6758\\features\\feature_engineering_II.py:136: FutureWarning: A value is trying to be set on a copy of a DataFrame or Series through chained assignment using an inplace method.\n",
      "The behavior will change in pandas 3.0. This inplace method will never work because the intermediate object on which we are setting values always behaves as a copy.\n",
      "\n",
      "For example, when doing 'df[col].method(value, inplace=True)', try using 'df.method({col: value}, inplace=True)' or df[col] = df[col].method(value) instead, to perform the operation inplace on the original object.\n",
      "\n",
      "\n",
      "  self.df[column].fillna(self.df[column].value_counts().idxmax(), inplace=True)\n",
      "c:\\users\\dre\\documents\\agrosante_udem\\cours\\data_science\\nhl project\\ift-6758-project\\ift6758\\ift6758\\features\\feature_engineering_II.py:136: FutureWarning: A value is trying to be set on a copy of a DataFrame or Series through chained assignment using an inplace method.\n",
      "The behavior will change in pandas 3.0. This inplace method will never work because the intermediate object on which we are setting values always behaves as a copy.\n",
      "\n",
      "For example, when doing 'df[col].method(value, inplace=True)', try using 'df.method({col: value}, inplace=True)' or df[col] = df[col].method(value) instead, to perform the operation inplace on the original object.\n",
      "\n",
      "\n",
      "  self.df[column].fillna(self.df[column].value_counts().idxmax(), inplace=True)\n",
      "c:\\users\\dre\\documents\\agrosante_udem\\cours\\data_science\\nhl project\\ift-6758-project\\ift6758\\ift6758\\features\\feature_engineering_II.py:136: FutureWarning: A value is trying to be set on a copy of a DataFrame or Series through chained assignment using an inplace method.\n",
      "The behavior will change in pandas 3.0. This inplace method will never work because the intermediate object on which we are setting values always behaves as a copy.\n",
      "\n",
      "For example, when doing 'df[col].method(value, inplace=True)', try using 'df.method({col: value}, inplace=True)' or df[col] = df[col].method(value) instead, to perform the operation inplace on the original object.\n",
      "\n",
      "\n",
      "  self.df[column].fillna(self.df[column].value_counts().idxmax(), inplace=True)\n",
      "c:\\users\\dre\\documents\\agrosante_udem\\cours\\data_science\\nhl project\\ift-6758-project\\ift6758\\ift6758\\features\\feature_engineering_II.py:136: FutureWarning: A value is trying to be set on a copy of a DataFrame or Series through chained assignment using an inplace method.\n",
      "The behavior will change in pandas 3.0. This inplace method will never work because the intermediate object on which we are setting values always behaves as a copy.\n",
      "\n",
      "For example, when doing 'df[col].method(value, inplace=True)', try using 'df.method({col: value}, inplace=True)' or df[col] = df[col].method(value) instead, to perform the operation inplace on the original object.\n",
      "\n",
      "\n",
      "  self.df[column].fillna(self.df[column].value_counts().idxmax(), inplace=True)\n",
      "c:\\users\\dre\\documents\\agrosante_udem\\cours\\data_science\\nhl project\\ift-6758-project\\ift6758\\ift6758\\features\\feature_engineering_II.py:133: FutureWarning: A value is trying to be set on a copy of a DataFrame or Series through chained assignment using an inplace method.\n",
      "The behavior will change in pandas 3.0. This inplace method will never work because the intermediate object on which we are setting values always behaves as a copy.\n",
      "\n",
      "For example, when doing 'df[col].method(value, inplace=True)', try using 'df.method({col: value}, inplace=True)' or df[col] = df[col].method(value) instead, to perform the operation inplace on the original object.\n",
      "\n",
      "\n",
      "  self.df[column].fillna(self.df[column].mean(), inplace=True)\n",
      "c:\\users\\dre\\documents\\agrosante_udem\\cours\\data_science\\nhl project\\ift-6758-project\\ift6758\\ift6758\\features\\feature_engineering_II.py:136: FutureWarning: A value is trying to be set on a copy of a DataFrame or Series through chained assignment using an inplace method.\n",
      "The behavior will change in pandas 3.0. This inplace method will never work because the intermediate object on which we are setting values always behaves as a copy.\n",
      "\n",
      "For example, when doing 'df[col].method(value, inplace=True)', try using 'df.method({col: value}, inplace=True)' or df[col] = df[col].method(value) instead, to perform the operation inplace on the original object.\n",
      "\n",
      "\n",
      "  self.df[column].fillna(self.df[column].value_counts().idxmax(), inplace=True)\n",
      "c:\\users\\dre\\documents\\agrosante_udem\\cours\\data_science\\nhl project\\ift-6758-project\\ift6758\\ift6758\\features\\feature_engineering_II.py:133: FutureWarning: A value is trying to be set on a copy of a DataFrame or Series through chained assignment using an inplace method.\n",
      "The behavior will change in pandas 3.0. This inplace method will never work because the intermediate object on which we are setting values always behaves as a copy.\n",
      "\n",
      "For example, when doing 'df[col].method(value, inplace=True)', try using 'df.method({col: value}, inplace=True)' or df[col] = df[col].method(value) instead, to perform the operation inplace on the original object.\n",
      "\n",
      "\n",
      "  self.df[column].fillna(self.df[column].mean(), inplace=True)\n",
      "c:\\users\\dre\\documents\\agrosante_udem\\cours\\data_science\\nhl project\\ift-6758-project\\ift6758\\ift6758\\features\\feature_engineering_II.py:136: FutureWarning: A value is trying to be set on a copy of a DataFrame or Series through chained assignment using an inplace method.\n",
      "The behavior will change in pandas 3.0. This inplace method will never work because the intermediate object on which we are setting values always behaves as a copy.\n",
      "\n",
      "For example, when doing 'df[col].method(value, inplace=True)', try using 'df.method({col: value}, inplace=True)' or df[col] = df[col].method(value) instead, to perform the operation inplace on the original object.\n",
      "\n",
      "\n",
      "  self.df[column].fillna(self.df[column].value_counts().idxmax(), inplace=True)\n",
      "c:\\users\\dre\\documents\\agrosante_udem\\cours\\data_science\\nhl project\\ift-6758-project\\ift6758\\ift6758\\features\\feature_engineering_II.py:185: FutureWarning: A value is trying to be set on a copy of a DataFrame or Series through chained assignment using an inplace method.\n",
      "The behavior will change in pandas 3.0. This inplace method will never work because the intermediate object on which we are setting values always behaves as a copy.\n",
      "\n",
      "For example, when doing 'df[col].method(value, inplace=True)', try using 'df.method({col: value}, inplace=True)' or df[col] = df[col].method(value) instead, to perform the operation inplace on the original object.\n",
      "\n",
      "\n",
      "  df['empty_net'].fillna(0, inplace=True)\n",
      "wandb: Currently logged in as: andre-diler (IFT6758-2024-B05). Use `wandb login --relogin` to force relogin\n"
     ]
    },
    {
     "data": {
      "text/html": [
       "Tracking run with wandb version 0.18.5"
      ],
      "text/plain": [
       "<IPython.core.display.HTML object>"
      ]
     },
     "metadata": {},
     "output_type": "display_data"
    },
    {
     "data": {
      "text/html": [
       "Run data is saved locally in <code>c:\\Users\\dre\\Documents\\agrosante_udem\\cours\\data_science\\nhl project\\IFT-6758-project\\notebooks\\wandb\\run-20241219_231216-starttdg</code>"
      ],
      "text/plain": [
       "<IPython.core.display.HTML object>"
      ]
     },
     "metadata": {},
     "output_type": "display_data"
    },
    {
     "data": {
      "text/html": [
       "Syncing run <strong><a href='https://wandb.ai/IFT6758-2024-B05/IFT6758-2024-B05/runs/starttdg' target=\"_blank\">vivid-valley-154</a></strong> to <a href='https://wandb.ai/IFT6758-2024-B05/IFT6758-2024-B05' target=\"_blank\">Weights & Biases</a> (<a href='https://wandb.me/run' target=\"_blank\">docs</a>)<br/>"
      ],
      "text/plain": [
       "<IPython.core.display.HTML object>"
      ]
     },
     "metadata": {},
     "output_type": "display_data"
    },
    {
     "data": {
      "text/html": [
       " View project at <a href='https://wandb.ai/IFT6758-2024-B05/IFT6758-2024-B05' target=\"_blank\">https://wandb.ai/IFT6758-2024-B05/IFT6758-2024-B05</a>"
      ],
      "text/plain": [
       "<IPython.core.display.HTML object>"
      ]
     },
     "metadata": {},
     "output_type": "display_data"
    },
    {
     "data": {
      "text/html": [
       " View run at <a href='https://wandb.ai/IFT6758-2024-B05/IFT6758-2024-B05/runs/starttdg' target=\"_blank\">https://wandb.ai/IFT6758-2024-B05/IFT6758-2024-B05/runs/starttdg</a>"
      ],
      "text/plain": [
       "<IPython.core.display.HTML object>"
      ]
     },
     "metadata": {},
     "output_type": "display_data"
    }
   ],
   "source": [
    "from ift6758.data.light_wandb_handler import LightWandbHandler\n",
    "\n",
    "\n",
    "light_wandb_handler = LightWandbHandler()\n",
    "workspace = light_wandb_handler.get_wandb_workspaces()[-1]\n",
    "df = light_wandb_handler.get_game_id(2017020003)\n",
    "\n",
    "model_list = light_wandb_handler.get_model_list(workspace)\n",
    "model_name = model_list[0].split(\":\")[0]\n",
    "model_version = model_list[0].split(\":\")[1]\n",
    "\n",
    "model = light_wandb_handler.load_model(model_name, model_version, workspace)\n",
    "\n",
    "features = ['distance_from_net', 'angle_from_net']\n",
    "X = df[features].to_numpy()\n",
    "y = df['labels'].to_numpy().reshape(-1, 1)\n",
    "\n",
    "y_pred_discrete, y_pred_proba = light_wandb_handler.predict(model, X)\n",
    "y_pred_proba"
   ]
  }
 ],
 "metadata": {
  "kernelspec": {
   "display_name": "ift-6758-lab-venv",
   "language": "python",
   "name": "python3"
  },
  "language_info": {
   "codemirror_mode": {
    "name": "ipython",
    "version": 3
   },
   "file_extension": ".py",
   "mimetype": "text/x-python",
   "name": "python",
   "nbconvert_exporter": "python",
   "pygments_lexer": "ipython3",
   "version": "3.12.3"
  }
 },
 "nbformat": 4,
 "nbformat_minor": 2
}

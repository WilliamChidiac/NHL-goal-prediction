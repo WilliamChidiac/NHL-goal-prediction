{
 "cells": [
  {
   "cell_type": "code",
   "execution_count": null,
   "metadata": {},
   "outputs": [],
   "source": [
    "from ift6758.data.light_wandb_handler import LightWandbHandler\n",
    "\n",
    "\n",
    "light_wandb_handler = LightWandbHandler()\n",
    "workspace = light_wandb_handler.get_wandb_workspaces()[-1]\n",
    "df = light_wandb_handler.get_game_id(2017020003)\n",
    "\n",
    "model_list = light_wandb_handler.get_model_list(workspace)\n",
    "model_name = model_list[0].split(\":\")[0]\n",
    "model_version = model_list[0].split(\":\")[1]\n",
    "\n",
    "model = light_wandb_handler.load_model(model_name, model_version, workspace)\n",
    "\n",
    "features = ['distance_from_net', 'angle_from_net']\n",
    "X = df[features].to_numpy()\n",
    "y = df['labels'].to_numpy().reshape(-1, 1)\n",
    "\n",
    "y_pred_discrete, y_pred_proba = light_wandb_handler.predict(model, X)\n",
    "y_pred_proba"
   ]
  }
 ],
 "metadata": {
  "kernelspec": {
   "display_name": "ift-6758-lab-venv",
   "language": "python",
   "name": "python3"
  },
  "language_info": {
   "codemirror_mode": {
    "name": "ipython",
    "version": 3
   },
   "file_extension": ".py",
   "mimetype": "text/x-python",
   "name": "python",
   "nbconvert_exporter": "python",
   "pygments_lexer": "ipython3",
   "version": "3.12.3"
  }
 },
 "nbformat": 4,
 "nbformat_minor": 2
}

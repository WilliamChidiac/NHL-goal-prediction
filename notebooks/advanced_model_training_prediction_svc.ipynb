{
 "cells": [
  {
   "cell_type": "code",
   "execution_count": 1,
   "metadata": {},
   "outputs": [],
   "source": [
    "import sys\n",
    "sys.path.append('..')\n",
    "from ift6758.models.advanced_model_training_prediction import CrossValidation\n",
    "from ift6758.data import wandb_handler\n",
    "from ift6758.features.feature_engineering_II import  FeatureEngineeringII as fe2\n",
    "import numpy as np"
   ]
  },
  {
   "cell_type": "code",
   "execution_count": null,
   "metadata": {},
   "outputs": [
    {
     "name": "stderr",
     "output_type": "stream",
     "text": [
      "wandb: Using wandb-core as the SDK backend. Please refer to https://wandb.me/wandb-core for more information.\n",
      "wandb: Downloading large artifact train_val_feature_eng_2:v0, 81.37MB. 4 files... \n",
      "wandb:   4 of 4 files downloaded.  \n",
      "Done. 0:0:0.3\n"
     ]
    },
    {
     "name": "stdout",
     "output_type": "stream",
     "text": [
      "Artifact downloaded to: ..\\ift6758\\data\\wandb_artifacts\\train_val_feature_eng_2\n"
     ]
    }
   ],
   "source": [
    "data_loader = wandb_handler.DataLoader()\n",
    "df = data_loader.load_all_files_from_artifact(\"train_val_feature_eng_2\", \"v0\")\n",
    "df[\"season\"].unique()"
   ]
  },
  {
   "cell_type": "code",
   "execution_count": null,
   "metadata": {},
   "outputs": [
    {
     "data": {
      "text/plain": [
       "array([20162017, 20172018, 20182019, 20192020], dtype=int64)"
      ]
     },
     "execution_count": 3,
     "metadata": {},
     "output_type": "execute_result"
    }
   ],
   "source": [
    "cleaned_df = fe2(df)\n",
    "cleaned_df.clean_df()\n",
    "X = cleaned_df.df.drop(columns=[\"labels\"]).to_numpy()\n",
    "y = cleaned_df.df[\"labels\"].to_numpy()\n",
    "CrossValidation.generate_new_split(X, y, 5)"
   ]
  },
  {
   "cell_type": "code",
   "execution_count": 10,
   "metadata": {},
   "outputs": [
    {
     "ename": "NotFittedError",
     "evalue": "This StandardScaler instance is not fitted yet. Call 'fit' with appropriate arguments before using this estimator.",
     "output_type": "error",
     "traceback": [
      "\u001b[1;31m---------------------------------------------------------------------------\u001b[0m",
      "\u001b[1;31mNotFittedError\u001b[0m                            Traceback (most recent call last)",
      "Cell \u001b[1;32mIn[10], line 35\u001b[0m\n\u001b[0;32m      3\u001b[0m \u001b[38;5;28;01mfrom\u001b[39;00m \u001b[38;5;21;01msklearn\u001b[39;00m\u001b[38;5;21;01m.\u001b[39;00m\u001b[38;5;21;01msvm\u001b[39;00m \u001b[38;5;28;01mimport\u001b[39;00m SVC\n\u001b[0;32m      5\u001b[0m task_instructions \u001b[38;5;241m=\u001b[39m {\n\u001b[0;32m      6\u001b[0m             \u001b[38;5;124m\"\u001b[39m\u001b[38;5;124mmodel\u001b[39m\u001b[38;5;124m\"\u001b[39m: {\n\u001b[0;32m      7\u001b[0m                 \u001b[38;5;124m\"\u001b[39m\u001b[38;5;124mmodel\u001b[39m\u001b[38;5;124m\"\u001b[39m: SVC,\n\u001b[1;32m   (...)\u001b[0m\n\u001b[0;32m     32\u001b[0m             }\n\u001b[0;32m     33\u001b[0m         }\n\u001b[1;32m---> 35\u001b[0m CrossValidation\u001b[38;5;241m.\u001b[39mcross_validate(task_instructions)\n",
      "File \u001b[1;32mc:\\users\\dre\\documents\\agrosante_udem\\cours\\data_science\\nhl project\\ift-6758-project\\ift6758\\models\\advanced_model_training_prediction.py:475\u001b[0m, in \u001b[0;36mCrossValidation.cross_validate\u001b[1;34m(build_instructions)\u001b[0m\n\u001b[0;32m    473\u001b[0m y_trues \u001b[38;5;241m=\u001b[39m np\u001b[38;5;241m.\u001b[39marray([])\n\u001b[0;32m    474\u001b[0m \u001b[38;5;28;01mfor\u001b[39;00m X_train, X_val, y_train, y_val \u001b[38;5;129;01min\u001b[39;00m CrossValidation\u001b[38;5;241m.\u001b[39mcross_val_split:\n\u001b[1;32m--> 475\u001b[0m     cv\u001b[38;5;241m.\u001b[39mfit(X_train, y_train, force_fit\u001b[38;5;241m=\u001b[39m\u001b[38;5;28;01mTrue\u001b[39;00m)\n\u001b[0;32m    476\u001b[0m     y_pred \u001b[38;5;241m=\u001b[39m cv\u001b[38;5;241m.\u001b[39mpredict(X_val)\n\u001b[0;32m    477\u001b[0m     y_preds \u001b[38;5;241m=\u001b[39m np\u001b[38;5;241m.\u001b[39mconcatenate((y_preds, y_pred))\n",
      "File \u001b[1;32mc:\\users\\dre\\documents\\agrosante_udem\\cours\\data_science\\nhl project\\ift-6758-project\\ift6758\\models\\advanced_model_training_prediction.py:434\u001b[0m, in \u001b[0;36mCrossValidation.fit\u001b[1;34m(self, X_train, y_train, force_fit)\u001b[0m\n\u001b[0;32m    426\u001b[0m \u001b[38;5;28;01mdef\u001b[39;00m \u001b[38;5;21mfit\u001b[39m(\u001b[38;5;28mself\u001b[39m, X_train: np\u001b[38;5;241m.\u001b[39mndarray, y_train: np\u001b[38;5;241m.\u001b[39mndarray, force_fit : \u001b[38;5;28mbool\u001b[39m \u001b[38;5;241m=\u001b[39m \u001b[38;5;28;01mFalse\u001b[39;00m):\n\u001b[0;32m    427\u001b[0m \u001b[38;5;250m    \u001b[39m\u001b[38;5;124;03m\"\"\" fit the cross validation\u001b[39;00m\n\u001b[0;32m    428\u001b[0m \n\u001b[0;32m    429\u001b[0m \u001b[38;5;124;03m    Args:\u001b[39;00m\n\u001b[1;32m   (...)\u001b[0m\n\u001b[0;32m    432\u001b[0m \u001b[38;5;124;03m        force_fit (bool, optional): whethere or not everything should be retrained. Defaults to False.\u001b[39;00m\n\u001b[0;32m    433\u001b[0m \u001b[38;5;124;03m    \"\"\"\u001b[39;00m\n\u001b[1;32m--> 434\u001b[0m     \u001b[38;5;28mself\u001b[39m\u001b[38;5;241m.\u001b[39mtransformation\u001b[38;5;241m.\u001b[39mfit(X_train, force_fit)\n\u001b[0;32m    435\u001b[0m     X_trans \u001b[38;5;241m=\u001b[39m \u001b[38;5;28mself\u001b[39m\u001b[38;5;241m.\u001b[39mtransformation\u001b[38;5;241m.\u001b[39mtransform(X_train)\n\u001b[0;32m    436\u001b[0m     \u001b[38;5;28mself\u001b[39m\u001b[38;5;241m.\u001b[39mmodel\u001b[38;5;241m.\u001b[39mfit(X_trans, y_train, force_fit)\n",
      "File \u001b[1;32mc:\\users\\dre\\documents\\agrosante_udem\\cours\\data_science\\nhl project\\ift-6758-project\\ift6758\\models\\advanced_model_training_prediction.py:258\u001b[0m, in \u001b[0;36mTransformationPipeline.fit\u001b[1;34m(self, x, force_fit)\u001b[0m\n\u001b[0;32m    256\u001b[0m step \u001b[38;5;241m=\u001b[39m \u001b[38;5;28mself\u001b[39m\u001b[38;5;241m.\u001b[39msteps[i]\n\u001b[0;32m    257\u001b[0m step\u001b[38;5;241m.\u001b[39mfit(X, force_fit)\n\u001b[1;32m--> 258\u001b[0m X \u001b[38;5;241m=\u001b[39m step\u001b[38;5;241m.\u001b[39mtransform(X)\n",
      "File \u001b[1;32mc:\\users\\dre\\documents\\agrosante_udem\\cours\\data_science\\nhl project\\ift-6758-project\\ift6758\\models\\advanced_model_training_prediction.py:207\u001b[0m, in \u001b[0;36mTransformation.transform\u001b[1;34m(self, x)\u001b[0m\n\u001b[0;32m    204\u001b[0m     \u001b[38;5;28;01mreturn\u001b[39;00m \u001b[38;5;28mself\u001b[39m\u001b[38;5;241m.\u001b[39mtrained_x\n\u001b[0;32m    206\u001b[0m \u001b[38;5;28mself\u001b[39m\u001b[38;5;241m.\u001b[39mpre_trained_x \u001b[38;5;241m=\u001b[39m x\n\u001b[1;32m--> 207\u001b[0m new_x \u001b[38;5;241m=\u001b[39m \u001b[38;5;28mself\u001b[39m\u001b[38;5;241m.\u001b[39mtransformation\u001b[38;5;241m.\u001b[39mtransform(x)\n\u001b[0;32m    208\u001b[0m \u001b[38;5;28mself\u001b[39m\u001b[38;5;241m.\u001b[39mtrained_x \u001b[38;5;241m=\u001b[39m new_x\n\u001b[0;32m    209\u001b[0m \u001b[38;5;28;01mreturn\u001b[39;00m new_x\n",
      "File \u001b[1;32mc:\\Users\\dre\\miniconda3\\envs\\ift-6758-lab-venv\\Lib\\site-packages\\sklearn\\utils\\_set_output.py:313\u001b[0m, in \u001b[0;36m_wrap_method_output.<locals>.wrapped\u001b[1;34m(self, X, *args, **kwargs)\u001b[0m\n\u001b[0;32m    311\u001b[0m \u001b[38;5;129m@wraps\u001b[39m(f)\n\u001b[0;32m    312\u001b[0m \u001b[38;5;28;01mdef\u001b[39;00m \u001b[38;5;21mwrapped\u001b[39m(\u001b[38;5;28mself\u001b[39m, X, \u001b[38;5;241m*\u001b[39margs, \u001b[38;5;241m*\u001b[39m\u001b[38;5;241m*\u001b[39mkwargs):\n\u001b[1;32m--> 313\u001b[0m     data_to_wrap \u001b[38;5;241m=\u001b[39m f(\u001b[38;5;28mself\u001b[39m, X, \u001b[38;5;241m*\u001b[39margs, \u001b[38;5;241m*\u001b[39m\u001b[38;5;241m*\u001b[39mkwargs)\n\u001b[0;32m    314\u001b[0m     \u001b[38;5;28;01mif\u001b[39;00m \u001b[38;5;28misinstance\u001b[39m(data_to_wrap, \u001b[38;5;28mtuple\u001b[39m):\n\u001b[0;32m    315\u001b[0m         \u001b[38;5;66;03m# only wrap the first output for cross decomposition\u001b[39;00m\n\u001b[0;32m    316\u001b[0m         return_tuple \u001b[38;5;241m=\u001b[39m (\n\u001b[0;32m    317\u001b[0m             _wrap_data_with_container(method, data_to_wrap[\u001b[38;5;241m0\u001b[39m], X, \u001b[38;5;28mself\u001b[39m),\n\u001b[0;32m    318\u001b[0m             \u001b[38;5;241m*\u001b[39mdata_to_wrap[\u001b[38;5;241m1\u001b[39m:],\n\u001b[0;32m    319\u001b[0m         )\n",
      "File \u001b[1;32mc:\\Users\\dre\\miniconda3\\envs\\ift-6758-lab-venv\\Lib\\site-packages\\sklearn\\preprocessing\\_data.py:1042\u001b[0m, in \u001b[0;36mStandardScaler.transform\u001b[1;34m(self, X, copy)\u001b[0m\n\u001b[0;32m   1027\u001b[0m \u001b[38;5;28;01mdef\u001b[39;00m \u001b[38;5;21mtransform\u001b[39m(\u001b[38;5;28mself\u001b[39m, X, copy\u001b[38;5;241m=\u001b[39m\u001b[38;5;28;01mNone\u001b[39;00m):\n\u001b[0;32m   1028\u001b[0m \u001b[38;5;250m    \u001b[39m\u001b[38;5;124;03m\"\"\"Perform standardization by centering and scaling.\u001b[39;00m\n\u001b[0;32m   1029\u001b[0m \n\u001b[0;32m   1030\u001b[0m \u001b[38;5;124;03m    Parameters\u001b[39;00m\n\u001b[1;32m   (...)\u001b[0m\n\u001b[0;32m   1040\u001b[0m \u001b[38;5;124;03m        Transformed array.\u001b[39;00m\n\u001b[0;32m   1041\u001b[0m \u001b[38;5;124;03m    \"\"\"\u001b[39;00m\n\u001b[1;32m-> 1042\u001b[0m     check_is_fitted(\u001b[38;5;28mself\u001b[39m)\n\u001b[0;32m   1044\u001b[0m     copy \u001b[38;5;241m=\u001b[39m copy \u001b[38;5;28;01mif\u001b[39;00m copy \u001b[38;5;129;01mis\u001b[39;00m \u001b[38;5;129;01mnot\u001b[39;00m \u001b[38;5;28;01mNone\u001b[39;00m \u001b[38;5;28;01melse\u001b[39;00m \u001b[38;5;28mself\u001b[39m\u001b[38;5;241m.\u001b[39mcopy\n\u001b[0;32m   1045\u001b[0m     X \u001b[38;5;241m=\u001b[39m \u001b[38;5;28mself\u001b[39m\u001b[38;5;241m.\u001b[39m_validate_data(\n\u001b[0;32m   1046\u001b[0m         X,\n\u001b[0;32m   1047\u001b[0m         reset\u001b[38;5;241m=\u001b[39m\u001b[38;5;28;01mFalse\u001b[39;00m,\n\u001b[1;32m   (...)\u001b[0m\n\u001b[0;32m   1052\u001b[0m         force_all_finite\u001b[38;5;241m=\u001b[39m\u001b[38;5;124m\"\u001b[39m\u001b[38;5;124mallow-nan\u001b[39m\u001b[38;5;124m\"\u001b[39m,\n\u001b[0;32m   1053\u001b[0m     )\n",
      "File \u001b[1;32mc:\\Users\\dre\\miniconda3\\envs\\ift-6758-lab-venv\\Lib\\site-packages\\sklearn\\utils\\validation.py:1661\u001b[0m, in \u001b[0;36mcheck_is_fitted\u001b[1;34m(estimator, attributes, msg, all_or_any)\u001b[0m\n\u001b[0;32m   1658\u001b[0m     \u001b[38;5;28;01mraise\u001b[39;00m \u001b[38;5;167;01mTypeError\u001b[39;00m(\u001b[38;5;124m\"\u001b[39m\u001b[38;5;132;01m%s\u001b[39;00m\u001b[38;5;124m is not an estimator instance.\u001b[39m\u001b[38;5;124m\"\u001b[39m \u001b[38;5;241m%\u001b[39m (estimator))\n\u001b[0;32m   1660\u001b[0m \u001b[38;5;28;01mif\u001b[39;00m \u001b[38;5;129;01mnot\u001b[39;00m _is_fitted(estimator, attributes, all_or_any):\n\u001b[1;32m-> 1661\u001b[0m     \u001b[38;5;28;01mraise\u001b[39;00m NotFittedError(msg \u001b[38;5;241m%\u001b[39m {\u001b[38;5;124m\"\u001b[39m\u001b[38;5;124mname\u001b[39m\u001b[38;5;124m\"\u001b[39m: \u001b[38;5;28mtype\u001b[39m(estimator)\u001b[38;5;241m.\u001b[39m\u001b[38;5;18m__name__\u001b[39m})\n",
      "\u001b[1;31mNotFittedError\u001b[0m: This StandardScaler instance is not fitted yet. Call 'fit' with appropriate arguments before using this estimator."
     ]
    }
   ],
   "source": [
    "from sklearn.preprocessing import StandardScaler\n",
    "from sklearn.decomposition import PCA\n",
    "from sklearn.svm import SVC\n",
    "\n",
    "task_instructions = {\n",
    "            \"model\": {\n",
    "                \"model\": SVC,\n",
    "                \"params\": {\n",
    "                    \"required\": [],\n",
    "                    \"optional\": {'kernel': 'rbf', 'C': 1.0, 'gamma': 'scale', 'class_weight': 'balanced', 'degree': 3 }\n",
    "                },\n",
    "            },\n",
    "            \"transformation\": [\n",
    "                {\n",
    "                    \"transformation\": StandardScaler,\n",
    "                    \"params\": {\n",
    "                        \"required\": [],\n",
    "                        \"optional\": {}\n",
    "                    }\n",
    "                },\n",
    "                {\n",
    "                    \"transformation\": PCA,\n",
    "                    \"params\": {\n",
    "                        \"required\": [],\n",
    "                        \"optional\": {'n_components': 2}\n",
    "                    }\n",
    "                }\n",
    "            ],\n",
    "            \"hyperparameter\": {\n",
    "                \"path\": \"model.params.optional.degree\",\n",
    "                \"values\": [2, 3, 4, 5]\n",
    "            }\n",
    "        }\n",
    "\n",
    "CrossValidation.cross_validate(task_instructions)\n"
   ]
  }
 ],
 "metadata": {
  "kernelspec": {
   "display_name": "ift-6758-lab-venv",
   "language": "python",
   "name": "python3"
  },
  "language_info": {
   "codemirror_mode": {
    "name": "ipython",
    "version": 3
   },
   "file_extension": ".py",
   "mimetype": "text/x-python",
   "name": "python",
   "nbconvert_exporter": "python",
   "pygments_lexer": "ipython3",
   "version": "3.12.3"
  }
 },
 "nbformat": 4,
 "nbformat_minor": 2
}

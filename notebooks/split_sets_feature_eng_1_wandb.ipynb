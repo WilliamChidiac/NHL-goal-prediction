{
 "cells": [
  {
   "cell_type": "code",
   "execution_count": null,
   "metadata": {},
   "outputs": [],
   "source": [
    "import wandb\n",
    "from ift6758.data import get_wandb_data\n",
    "import pandas as pd\n",
    "pd.set_option('display.max_columns', None)\n",
    "import ift6758.features.trigonometry as trigonometry\n",
    "import os\n",
    "import sys\n",
    "sys.path.append('..')\n",
    "from ift6758.visualizations import debugging_tool"
   ]
  },
  {
   "cell_type": "code",
   "execution_count": null,
   "metadata": {},
   "outputs": [],
   "source": [
    "# Train/val\n",
    "train_val_seasons=['2016-2017', '2017-2018', '2018-2019', '2019-2020']\n",
    "test_season='2020-2021'"
   ]
  },
  {
   "cell_type": "code",
   "execution_count": null,
   "metadata": {},
   "outputs": [],
   "source": [
    "get_wandb_data.download_artifact(artifact_name=\"shot_events:v4\")"
   ]
  },
  {
   "cell_type": "code",
   "execution_count": null,
   "metadata": {},
   "outputs": [],
   "source": [
    "def preprocess_feature_eng_1(df):\n",
    "    new_df = pd.DataFrame()\n",
    "    new_df['season'] = df['season']\n",
    "    new_df['game_id'] = df['id']\n",
    "    new_df['event_id'] = df['eventId']\n",
    "    new_df['angle_from_net'] = df.apply(trigonometry.compute_angle_from_net, axis=1)\n",
    "    new_df['is_goal'] = df['type'].apply(lambda x: 1 if x == 'Goal' else 0)\n",
    "    new_df['empty_net'] = df['goalieInNetId'].apply(lambda x: 1 if pd.isna(x) else 0)\n",
    "    new_df['distance_from_net'] = df['distance_from_net']\n",
    "    return new_df"
   ]
  },
  {
   "cell_type": "code",
   "execution_count": null,
   "metadata": {},
   "outputs": [],
   "source": [
    "df_list = []\n",
    "for season in train_val_seasons:\n",
    "    df_list.append(get_wandb_data.load_season_dataframe(season))\n",
    "df_train_val = pd.concat(df_list, ignore_index=True)\n",
    "df_train_val = preprocess_feature_eng_1(df_train_val)\n",
    "df_train_val"
   ]
  },
  {
   "cell_type": "code",
   "execution_count": null,
   "metadata": {},
   "outputs": [],
   "source": [
    "df_train_val[df_train_val['empty_net'] == 1]"
   ]
  },
  {
   "cell_type": "code",
   "execution_count": null,
   "metadata": {},
   "outputs": [],
   "source": [
    "df_train_val[df_train_val['is_goal'] == 1]\n"
   ]
  },
  {
   "cell_type": "code",
   "execution_count": null,
   "metadata": {},
   "outputs": [],
   "source": [
    "df_test = get_wandb_data.load_season_dataframe(test_season)\n",
    "df_test = preprocess_feature_eng_1(df_test)\n",
    "df_test"
   ]
  },
  {
   "cell_type": "code",
   "execution_count": null,
   "metadata": {},
   "outputs": [],
   "source": [
    "duplicates = df_train_val.duplicated()\n",
    "print(f\"Number of duplicate rows: {duplicates.sum()}\")"
   ]
  },
  {
   "cell_type": "code",
   "execution_count": null,
   "metadata": {},
   "outputs": [],
   "source": [
    "df_test[df_test['angle_from_net'] > 85]"
   ]
  },
  {
   "cell_type": "code",
   "execution_count": null,
   "metadata": {},
   "outputs": [],
   "source": [
    "trigonometry.plot_angles_histogram(df_train_val)"
   ]
  },
  {
   "cell_type": "code",
   "execution_count": null,
   "metadata": {},
   "outputs": [],
   "source": [
    "debugging_tool.display_game_id(\"2016020006\")"
   ]
  },
  {
   "cell_type": "markdown",
   "metadata": {},
   "source": [
    "# publish train_val"
   ]
  },
  {
   "cell_type": "code",
   "execution_count": null,
   "metadata": {},
   "outputs": [],
   "source": [
    "api_key = os.getenv(\"WANDB_API_KEY\") # requires wandb API key in WANDB_API_KEY environment variable\n",
    "\n",
    "\n",
    "artifact_name = \"train_val_feature_eng_1\"\n",
    "run_name = \"add distance from net\" # goal of the run\n",
    "\n",
    "with wandb.init(name=run_name, project=\"IFT6758-2024-B05\", job_type=\"load-data\", config={\"seasons\": \"2016-2019\"}, tags=[\"feature_eng_1\", \"train_val\"]) as run:\n",
    "    artifact = wandb.Artifact(artifact_name, type='dataset', description='train val data with feature engineering 1')\n",
    "    for season in train_val_seasons:\n",
    "        fomatted_season = int(season.replace('-', '')) # 2016-2017 -> 20162017\n",
    "        train_val_table = wandb.Table(dataframe=df_train_val[df_train_val[\"season\"] == fomatted_season])\n",
    "        artifact.add(train_val_table, f\"train_val_{season}\")\n",
    "    run.log_artifact(artifact)\n",
    "\n",
    "# get artifact and add tags\n",
    "project_name=\"IFT6758-2024-B05\"\n",
    "api = wandb.Api()    \n",
    "artifact = api.artifact(f\"{project_name}/{artifact_name}:latest\")\n",
    "\n",
    "artifact.tags = [\"distance_from_net\", \"angle_from_net\", \"empty_net\", \"is_goal\"] # change tags if necessary\n",
    "artifact.save()"
   ]
  },
  {
   "cell_type": "markdown",
   "metadata": {},
   "source": [
    "# publish test"
   ]
  },
  {
   "cell_type": "code",
   "execution_count": null,
   "metadata": {},
   "outputs": [],
   "source": [
    "api_key = os.getenv(\"WANDB_API_KEY\") # requires wandb API key in WANDB_API_KEY environment variable\n",
    "\n",
    "\n",
    "artifact_name = \"test_set_feature_eng_1\"\n",
    "run_name = \"reduce number of columns\" # goal of the run\n",
    "\n",
    "with wandb.init(name=run_name, project=\"IFT6758-2024-B05\", job_type=\"load-data\", config={\"seasons\": \"2020\"}, tags=[\"feature_eng_1\", \"test_set\"]) as run:\n",
    "    artifact = wandb.Artifact(artifact_name, type='dataset', description='test set data with feature engineering 1')\n",
    "    fomatted_season = int(test_season.replace('-', ''))\n",
    "    test_table = wandb.Table(dataframe=df_test[df_test[\"season\"] == fomatted_season])\n",
    "    artifact.add(test_table, f\"test_{season}\")\n",
    "    run.log_artifact(artifact)\n",
    "\n",
    "# get artifact and add tags\n",
    "project_name=\"IFT6758-2024-B05\"\n",
    "api = wandb.Api()    \n",
    "artifact = api.artifact(f\"{project_name}/{artifact_name}:latest\")\n",
    "\n",
    "artifact.tags = [\"distance_from_net\", \"angle_from_net\", \"empty_net\", \"is_goal\"] # change tags if necessary\n",
    "artifact.save()"
   ]
  }
 ],
 "metadata": {
  "kernelspec": {
   "display_name": "ift-6758-lab-venv",
   "language": "python",
   "name": "python3"
  },
  "language_info": {
   "codemirror_mode": {
    "name": "ipython",
    "version": 3
   },
   "file_extension": ".py",
   "mimetype": "text/x-python",
   "name": "python",
   "nbconvert_exporter": "python",
   "pygments_lexer": "ipython3",
   "version": "3.12.3"
  }
 },
 "nbformat": 4,
 "nbformat_minor": 2
}

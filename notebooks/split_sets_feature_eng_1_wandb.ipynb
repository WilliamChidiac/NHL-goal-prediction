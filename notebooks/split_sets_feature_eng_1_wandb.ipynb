{
 "cells": [
  {
   "cell_type": "code",
   "execution_count": 1,
   "metadata": {},
   "outputs": [],
   "source": [
    "import wandb\n",
    "from ift6758.data import wandb_handler\n",
    "import pandas as pd\n",
    "pd.set_option('display.max_columns', None)\n",
    "import ift6758.features.trigonometry as trigonometry\n",
    "import os\n",
    "import sys\n",
    "sys.path.append('..')\n",
    "from ift6758.visualizations import debugging_tool"
   ]
  },
  {
   "cell_type": "code",
   "execution_count": 5,
   "metadata": {},
   "outputs": [],
   "source": [
    "def preprocess_feature_eng_1(df):\n",
    "    new_df = pd.DataFrame()\n",
    "    new_df['season'] = df['season']\n",
    "    new_df['game_id'] = df['id']\n",
    "    new_df['event_id'] = df['eventId']\n",
    "    new_df['angle'] = df.apply(trigonometry.compute_angle_from_net, axis=1)\n",
    "    new_df['is_goal'] = df['type'].apply(lambda x: 1 if x == 'Goal' else 0)\n",
    "    new_df['empty_net'] = df['goalieInNetId'].apply(lambda x: 1 if pd.isna(x) else 0)\n",
    "    new_df['distance'] = df['distance_from_net']\n",
    "    new_df = new_df.dropna(subset=['angle', 'distance'])\n",
    "    return new_df"
   ]
  },
  {
   "cell_type": "code",
   "execution_count": 6,
   "metadata": {},
   "outputs": [],
   "source": [
    "def check_nan_values(df):\n",
    "    nan_distance = df['distance'].isna().sum()\n",
    "    nan_angle = df['angle'].isna().sum()\n",
    "    print(f\"Number of NaN values in distance: {nan_distance}\")\n",
    "    print(f\"Number of NaN values in angle: {nan_angle}\")"
   ]
  },
  {
   "cell_type": "code",
   "execution_count": 2,
   "metadata": {},
   "outputs": [],
   "source": [
    "# Train/val\n",
    "train_val_seasons=['2016-2017', '2017-2018', '2018-2019', '2019-2020']\n",
    "test_season=['2020-2021']\n",
    "artifact_name=\"shot_events\""
   ]
  },
  {
   "cell_type": "code",
   "execution_count": null,
   "metadata": {},
   "outputs": [],
   "source": [
    "data_loader = wandb_handler.DataLoader(project_name=\"IFT6758-2024-B05\")\n",
    "df_train_val = data_loader.load_seasons_dataframe(artifact_name=artifact_name, artifact_version=\"v4\", seasons=train_val_seasons)\n",
    "df_train_val = preprocess_feature_eng_1(df_train_val)\n",
    "df_train_val"
   ]
  },
  {
   "cell_type": "code",
   "execution_count": 8,
   "metadata": {},
   "outputs": [
    {
     "name": "stderr",
     "output_type": "stream",
     "text": [
      "wandb: Downloading large artifact shot_events:v4, 108.93MB. 8 files... \n",
      "wandb:   8 of 8 files downloaded.  \n",
      "Done. 0:0:0.3\n"
     ]
    },
    {
     "name": "stdout",
     "output_type": "stream",
     "text": [
      "Artifact downloaded to: ..\\ift6758\\data\\wandb_artifacts\\shot_events\n"
     ]
    },
    {
     "data": {
      "text/html": [
       "<div>\n",
       "<style scoped>\n",
       "    .dataframe tbody tr th:only-of-type {\n",
       "        vertical-align: middle;\n",
       "    }\n",
       "\n",
       "    .dataframe tbody tr th {\n",
       "        vertical-align: top;\n",
       "    }\n",
       "\n",
       "    .dataframe thead th {\n",
       "        text-align: right;\n",
       "    }\n",
       "</style>\n",
       "<table border=\"1\" class=\"dataframe\">\n",
       "  <thead>\n",
       "    <tr style=\"text-align: right;\">\n",
       "      <th></th>\n",
       "      <th>season</th>\n",
       "      <th>game_id</th>\n",
       "      <th>event_id</th>\n",
       "      <th>angle</th>\n",
       "      <th>is_goal</th>\n",
       "      <th>empty_net</th>\n",
       "      <th>distance</th>\n",
       "    </tr>\n",
       "  </thead>\n",
       "  <tbody>\n",
       "    <tr>\n",
       "      <th>0</th>\n",
       "      <td>20202021</td>\n",
       "      <td>2020020001</td>\n",
       "      <td>53</td>\n",
       "      <td>62.650124</td>\n",
       "      <td>0</td>\n",
       "      <td>0</td>\n",
       "      <td>32.649655</td>\n",
       "    </tr>\n",
       "    <tr>\n",
       "      <th>1</th>\n",
       "      <td>20202021</td>\n",
       "      <td>2020020001</td>\n",
       "      <td>9</td>\n",
       "      <td>32.005383</td>\n",
       "      <td>0</td>\n",
       "      <td>0</td>\n",
       "      <td>47.169906</td>\n",
       "    </tr>\n",
       "    <tr>\n",
       "      <th>2</th>\n",
       "      <td>20202021</td>\n",
       "      <td>2020020001</td>\n",
       "      <td>55</td>\n",
       "      <td>39.957549</td>\n",
       "      <td>0</td>\n",
       "      <td>0</td>\n",
       "      <td>48.270074</td>\n",
       "    </tr>\n",
       "    <tr>\n",
       "      <th>3</th>\n",
       "      <td>20202021</td>\n",
       "      <td>2020020001</td>\n",
       "      <td>62</td>\n",
       "      <td>40.292148</td>\n",
       "      <td>0</td>\n",
       "      <td>0</td>\n",
       "      <td>60.307545</td>\n",
       "    </tr>\n",
       "    <tr>\n",
       "      <th>4</th>\n",
       "      <td>20202021</td>\n",
       "      <td>2020020001</td>\n",
       "      <td>65</td>\n",
       "      <td>12.528808</td>\n",
       "      <td>0</td>\n",
       "      <td>0</td>\n",
       "      <td>36.878178</td>\n",
       "    </tr>\n",
       "    <tr>\n",
       "      <th>...</th>\n",
       "      <td>...</td>\n",
       "      <td>...</td>\n",
       "      <td>...</td>\n",
       "      <td>...</td>\n",
       "      <td>...</td>\n",
       "      <td>...</td>\n",
       "      <td>...</td>\n",
       "    </tr>\n",
       "    <tr>\n",
       "      <th>52403</th>\n",
       "      <td>20202021</td>\n",
       "      <td>2020020868</td>\n",
       "      <td>490</td>\n",
       "      <td>41.633539</td>\n",
       "      <td>0</td>\n",
       "      <td>0</td>\n",
       "      <td>24.083189</td>\n",
       "    </tr>\n",
       "    <tr>\n",
       "      <th>52404</th>\n",
       "      <td>20202021</td>\n",
       "      <td>2020020868</td>\n",
       "      <td>498</td>\n",
       "      <td>33.690068</td>\n",
       "      <td>0</td>\n",
       "      <td>0</td>\n",
       "      <td>25.238859</td>\n",
       "    </tr>\n",
       "    <tr>\n",
       "      <th>52405</th>\n",
       "      <td>20202021</td>\n",
       "      <td>2020020868</td>\n",
       "      <td>500</td>\n",
       "      <td>18.434949</td>\n",
       "      <td>0</td>\n",
       "      <td>0</td>\n",
       "      <td>34.785054</td>\n",
       "    </tr>\n",
       "    <tr>\n",
       "      <th>52406</th>\n",
       "      <td>20202021</td>\n",
       "      <td>2020020868</td>\n",
       "      <td>751</td>\n",
       "      <td>20.556045</td>\n",
       "      <td>0</td>\n",
       "      <td>0</td>\n",
       "      <td>17.088007</td>\n",
       "    </tr>\n",
       "    <tr>\n",
       "      <th>52407</th>\n",
       "      <td>20202021</td>\n",
       "      <td>2020020868</td>\n",
       "      <td>753</td>\n",
       "      <td>49.085617</td>\n",
       "      <td>1</td>\n",
       "      <td>0</td>\n",
       "      <td>19.849433</td>\n",
       "    </tr>\n",
       "  </tbody>\n",
       "</table>\n",
       "<p>52408 rows × 7 columns</p>\n",
       "</div>"
      ],
      "text/plain": [
       "         season     game_id  event_id      angle  is_goal  empty_net  \\\n",
       "0      20202021  2020020001        53  62.650124        0          0   \n",
       "1      20202021  2020020001         9  32.005383        0          0   \n",
       "2      20202021  2020020001        55  39.957549        0          0   \n",
       "3      20202021  2020020001        62  40.292148        0          0   \n",
       "4      20202021  2020020001        65  12.528808        0          0   \n",
       "...         ...         ...       ...        ...      ...        ...   \n",
       "52403  20202021  2020020868       490  41.633539        0          0   \n",
       "52404  20202021  2020020868       498  33.690068        0          0   \n",
       "52405  20202021  2020020868       500  18.434949        0          0   \n",
       "52406  20202021  2020020868       751  20.556045        0          0   \n",
       "52407  20202021  2020020868       753  49.085617        1          0   \n",
       "\n",
       "        distance  \n",
       "0      32.649655  \n",
       "1      47.169906  \n",
       "2      48.270074  \n",
       "3      60.307545  \n",
       "4      36.878178  \n",
       "...          ...  \n",
       "52403  24.083189  \n",
       "52404  25.238859  \n",
       "52405  34.785054  \n",
       "52406  17.088007  \n",
       "52407  19.849433  \n",
       "\n",
       "[52408 rows x 7 columns]"
      ]
     },
     "execution_count": 8,
     "metadata": {},
     "output_type": "execute_result"
    }
   ],
   "source": [
    "df_test = data_loader.load_seasons_dataframe(artifact_name=artifact_name, artifact_version=\"v4\", seasons=test_season)\n",
    "df_test = preprocess_feature_eng_1(df_test)\n",
    "df_test"
   ]
  },
  {
   "cell_type": "code",
   "execution_count": 9,
   "metadata": {},
   "outputs": [
    {
     "name": "stdout",
     "output_type": "stream",
     "text": [
      "Number of duplicate rows: 0\n"
     ]
    }
   ],
   "source": [
    "duplicates = df_train_val.duplicated()\n",
    "print(f\"Number of duplicate rows: {duplicates.sum()}\")"
   ]
  },
  {
   "cell_type": "markdown",
   "metadata": {},
   "source": [
    "# publish train_val"
   ]
  },
  {
   "cell_type": "code",
   "execution_count": 10,
   "metadata": {},
   "outputs": [
    {
     "name": "stderr",
     "output_type": "stream",
     "text": [
      "wandb: Currently logged in as: andre-diler (IFT6758-2024-B05). Use `wandb login --relogin` to force relogin\n"
     ]
    },
    {
     "data": {
      "text/html": [
       "Tracking run with wandb version 0.18.5"
      ],
      "text/plain": [
       "<IPython.core.display.HTML object>"
      ]
     },
     "metadata": {},
     "output_type": "display_data"
    },
    {
     "data": {
      "text/html": [
       "Run data is saved locally in <code>c:\\Users\\dre\\Documents\\agrosante_udem\\cours\\data_science\\nhl project\\IFT-6758-project\\notebooks\\wandb\\run-20241122_105110-bmsj6q10</code>"
      ],
      "text/plain": [
       "<IPython.core.display.HTML object>"
      ]
     },
     "metadata": {},
     "output_type": "display_data"
    },
    {
     "data": {
      "text/html": [
       "Syncing run <strong><a href='https://wandb.ai/IFT6758-2024-B05/IFT6758-2024-B05/runs/bmsj6q10' target=\"_blank\">rename files</a></strong> to <a href='https://wandb.ai/IFT6758-2024-B05/IFT6758-2024-B05' target=\"_blank\">Weights & Biases</a> (<a href='https://wandb.me/run' target=\"_blank\">docs</a>)<br/>"
      ],
      "text/plain": [
       "<IPython.core.display.HTML object>"
      ]
     },
     "metadata": {},
     "output_type": "display_data"
    },
    {
     "data": {
      "text/html": [
       " View project at <a href='https://wandb.ai/IFT6758-2024-B05/IFT6758-2024-B05' target=\"_blank\">https://wandb.ai/IFT6758-2024-B05/IFT6758-2024-B05</a>"
      ],
      "text/plain": [
       "<IPython.core.display.HTML object>"
      ]
     },
     "metadata": {},
     "output_type": "display_data"
    },
    {
     "data": {
      "text/html": [
       " View run at <a href='https://wandb.ai/IFT6758-2024-B05/IFT6758-2024-B05/runs/bmsj6q10' target=\"_blank\">https://wandb.ai/IFT6758-2024-B05/IFT6758-2024-B05/runs/bmsj6q10</a>"
      ],
      "text/plain": [
       "<IPython.core.display.HTML object>"
      ]
     },
     "metadata": {},
     "output_type": "display_data"
    },
    {
     "data": {
      "text/html": [
       " View run <strong style=\"color:#cdcd00\">rename files</strong> at: <a href='https://wandb.ai/IFT6758-2024-B05/IFT6758-2024-B05/runs/bmsj6q10' target=\"_blank\">https://wandb.ai/IFT6758-2024-B05/IFT6758-2024-B05/runs/bmsj6q10</a><br/> View project at: <a href='https://wandb.ai/IFT6758-2024-B05/IFT6758-2024-B05' target=\"_blank\">https://wandb.ai/IFT6758-2024-B05/IFT6758-2024-B05</a><br/>Synced 5 W&B file(s), 0 media file(s), 1 artifact file(s) and 0 other file(s)"
      ],
      "text/plain": [
       "<IPython.core.display.HTML object>"
      ]
     },
     "metadata": {},
     "output_type": "display_data"
    },
    {
     "data": {
      "text/html": [
       "Find logs at: <code>.\\wandb\\run-20241122_105110-bmsj6q10\\logs</code>"
      ],
      "text/plain": [
       "<IPython.core.display.HTML object>"
      ]
     },
     "metadata": {},
     "output_type": "display_data"
    }
   ],
   "source": [
    "data_loader.upload_dataset_to_wandb(df_train_val, \n",
    "                                    seasons=train_val_seasons, \n",
    "                                    artifact_name=\"train_val_feature_eng_1\", \n",
    "                                    run_name=\"rename files\",\n",
    "                                    tags=[\"distance_from_net\", \"angle_from_net\", \"empty_net\", \"is_goal\"])"
   ]
  },
  {
   "cell_type": "markdown",
   "metadata": {},
   "source": [
    "# publish test"
   ]
  },
  {
   "cell_type": "code",
   "execution_count": 12,
   "metadata": {},
   "outputs": [
    {
     "data": {
      "text/html": [
       "Tracking run with wandb version 0.18.5"
      ],
      "text/plain": [
       "<IPython.core.display.HTML object>"
      ]
     },
     "metadata": {},
     "output_type": "display_data"
    },
    {
     "data": {
      "text/html": [
       "Run data is saved locally in <code>c:\\Users\\dre\\Documents\\agrosante_udem\\cours\\data_science\\nhl project\\IFT-6758-project\\notebooks\\wandb\\run-20241122_105336-qku06i73</code>"
      ],
      "text/plain": [
       "<IPython.core.display.HTML object>"
      ]
     },
     "metadata": {},
     "output_type": "display_data"
    },
    {
     "data": {
      "text/html": [
       "Syncing run <strong><a href='https://wandb.ai/IFT6758-2024-B05/IFT6758-2024-B05/runs/qku06i73' target=\"_blank\">rename files</a></strong> to <a href='https://wandb.ai/IFT6758-2024-B05/IFT6758-2024-B05' target=\"_blank\">Weights & Biases</a> (<a href='https://wandb.me/run' target=\"_blank\">docs</a>)<br/>"
      ],
      "text/plain": [
       "<IPython.core.display.HTML object>"
      ]
     },
     "metadata": {},
     "output_type": "display_data"
    },
    {
     "data": {
      "text/html": [
       " View project at <a href='https://wandb.ai/IFT6758-2024-B05/IFT6758-2024-B05' target=\"_blank\">https://wandb.ai/IFT6758-2024-B05/IFT6758-2024-B05</a>"
      ],
      "text/plain": [
       "<IPython.core.display.HTML object>"
      ]
     },
     "metadata": {},
     "output_type": "display_data"
    },
    {
     "data": {
      "text/html": [
       " View run at <a href='https://wandb.ai/IFT6758-2024-B05/IFT6758-2024-B05/runs/qku06i73' target=\"_blank\">https://wandb.ai/IFT6758-2024-B05/IFT6758-2024-B05/runs/qku06i73</a>"
      ],
      "text/plain": [
       "<IPython.core.display.HTML object>"
      ]
     },
     "metadata": {},
     "output_type": "display_data"
    },
    {
     "data": {
      "text/html": [
       " View run <strong style=\"color:#cdcd00\">rename files</strong> at: <a href='https://wandb.ai/IFT6758-2024-B05/IFT6758-2024-B05/runs/qku06i73' target=\"_blank\">https://wandb.ai/IFT6758-2024-B05/IFT6758-2024-B05/runs/qku06i73</a><br/> View project at: <a href='https://wandb.ai/IFT6758-2024-B05/IFT6758-2024-B05' target=\"_blank\">https://wandb.ai/IFT6758-2024-B05/IFT6758-2024-B05</a><br/>Synced 5 W&B file(s), 0 media file(s), 2 artifact file(s) and 0 other file(s)"
      ],
      "text/plain": [
       "<IPython.core.display.HTML object>"
      ]
     },
     "metadata": {},
     "output_type": "display_data"
    },
    {
     "data": {
      "text/html": [
       "Find logs at: <code>.\\wandb\\run-20241122_105336-qku06i73\\logs</code>"
      ],
      "text/plain": [
       "<IPython.core.display.HTML object>"
      ]
     },
     "metadata": {},
     "output_type": "display_data"
    }
   ],
   "source": [
    "data_loader.upload_dataset_to_wandb(df_test, \n",
    "                                    seasons=test_season, \n",
    "                                    artifact_name=\"test_set_feature_eng_1\", \n",
    "                                    run_name=\"rename files\",\n",
    "                                    tags=[\"distance_from_net\", \"angle_from_net\", \"empty_net\", \"is_goal\"])"
   ]
  }
 ],
 "metadata": {
  "kernelspec": {
   "display_name": "ift-6758-lab-venv",
   "language": "python",
   "name": "python3"
  },
  "language_info": {
   "codemirror_mode": {
    "name": "ipython",
    "version": 3
   },
   "file_extension": ".py",
   "mimetype": "text/x-python",
   "name": "python",
   "nbconvert_exporter": "python",
   "pygments_lexer": "ipython3",
   "version": "3.12.3"
  }
 },
 "nbformat": 4,
 "nbformat_minor": 2
}

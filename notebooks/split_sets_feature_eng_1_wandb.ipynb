{
 "cells": [
  {
   "cell_type": "code",
   "execution_count": null,
   "metadata": {},
   "outputs": [],
   "source": [
    "import wandb\n",
    "from ift6758.data import get_wandb_data\n",
    "import pandas as pd\n",
    "pd.set_option('display.max_columns', None)\n",
    "import ift6758.features.trigonometry as trigonometry\n",
    "import os\n",
    "import sys\n",
    "sys.path.append('..')\n",
    "from ift6758.visualizations import debugging_tool"
   ]
  },
  {
   "cell_type": "code",
   "execution_count": 24,
   "metadata": {},
   "outputs": [],
   "source": [
    "# Train/val\n",
    "train_val_seasons=['2016-2017', '2017-2018', '2018-2019', '2019-2020']\n",
    "test_season='2020-2021'\n",
    "artifact_name=\"shot_events\""
   ]
  },
  {
   "cell_type": "code",
   "execution_count": 9,
   "metadata": {},
   "outputs": [
    {
     "name": "stderr",
     "output_type": "stream",
     "text": [
      "wandb: Downloading large artifact shot_events:v4, 108.93MB. 8 files... \n",
      "wandb:   8 of 8 files downloaded.  \n",
      "Done. 0:0:0.3\n"
     ]
    },
    {
     "name": "stdout",
     "output_type": "stream",
     "text": [
      "Artifact downloaded to: ../ift6758/data/wandb_artifacts//shot_events\n"
     ]
    }
   ],
   "source": [
    "get_wandb_data.download_artifact(artifact_name=artifact_name, artifact_version=\"v4\")"
   ]
  },
  {
   "cell_type": "code",
   "execution_count": 22,
   "metadata": {},
   "outputs": [],
   "source": [
    "def preprocess_feature_eng_1(df):\n",
    "    new_df = pd.DataFrame()\n",
    "    new_df['season'] = df['season']\n",
    "    new_df['game_id'] = df['id']\n",
    "    new_df['event_id'] = df['eventId']\n",
    "    new_df['angle'] = df.apply(trigonometry.compute_angle_from_net, axis=1)\n",
    "    new_df['is_goal'] = df['type'].apply(lambda x: 1 if x == 'Goal' else 0)\n",
    "    new_df['empty_net'] = df['goalieInNetId'].apply(lambda x: 1 if pd.isna(x) else 0)\n",
    "    new_df['distance'] = df['distance_from_net']\n",
    "    new_df = new_df.dropna(subset=['angle', 'distance'])\n",
    "    return new_df"
   ]
  },
  {
   "cell_type": "code",
   "execution_count": 27,
   "metadata": {},
   "outputs": [],
   "source": [
    "def check_nan_values(df):\n",
    "    nan_distance = df['distance'].isna().sum()\n",
    "    nan_angle = df['angle'].isna().sum()\n",
    "    print(f\"Number of NaN values in distance: {nan_distance}\")\n",
    "    print(f\"Number of NaN values in angle: {nan_angle}\")"
   ]
  },
  {
   "cell_type": "code",
   "execution_count": 25,
   "metadata": {},
   "outputs": [
    {
     "data": {
      "text/html": [
       "<div>\n",
       "<style scoped>\n",
       "    .dataframe tbody tr th:only-of-type {\n",
       "        vertical-align: middle;\n",
       "    }\n",
       "\n",
       "    .dataframe tbody tr th {\n",
       "        vertical-align: top;\n",
       "    }\n",
       "\n",
       "    .dataframe thead th {\n",
       "        text-align: right;\n",
       "    }\n",
       "</style>\n",
       "<table border=\"1\" class=\"dataframe\">\n",
       "  <thead>\n",
       "    <tr style=\"text-align: right;\">\n",
       "      <th></th>\n",
       "      <th>season</th>\n",
       "      <th>game_id</th>\n",
       "      <th>event_id</th>\n",
       "      <th>angle</th>\n",
       "      <th>is_goal</th>\n",
       "      <th>empty_net</th>\n",
       "      <th>distance</th>\n",
       "    </tr>\n",
       "  </thead>\n",
       "  <tbody>\n",
       "    <tr>\n",
       "      <th>0</th>\n",
       "      <td>20162017</td>\n",
       "      <td>2016020001</td>\n",
       "      <td>8</td>\n",
       "      <td>22.619865</td>\n",
       "      <td>0</td>\n",
       "      <td>0</td>\n",
       "      <td>13.000000</td>\n",
       "    </tr>\n",
       "    <tr>\n",
       "      <th>1</th>\n",
       "      <td>20162017</td>\n",
       "      <td>2016020001</td>\n",
       "      <td>11</td>\n",
       "      <td>77.005383</td>\n",
       "      <td>0</td>\n",
       "      <td>0</td>\n",
       "      <td>13.341664</td>\n",
       "    </tr>\n",
       "    <tr>\n",
       "      <th>2</th>\n",
       "      <td>20162017</td>\n",
       "      <td>2016020001</td>\n",
       "      <td>15</td>\n",
       "      <td>29.931512</td>\n",
       "      <td>0</td>\n",
       "      <td>0</td>\n",
       "      <td>76.157731</td>\n",
       "    </tr>\n",
       "    <tr>\n",
       "      <th>3</th>\n",
       "      <td>20162017</td>\n",
       "      <td>2016020001</td>\n",
       "      <td>16</td>\n",
       "      <td>14.995079</td>\n",
       "      <td>0</td>\n",
       "      <td>0</td>\n",
       "      <td>57.974132</td>\n",
       "    </tr>\n",
       "    <tr>\n",
       "      <th>4</th>\n",
       "      <td>20162017</td>\n",
       "      <td>2016020001</td>\n",
       "      <td>24</td>\n",
       "      <td>26.980231</td>\n",
       "      <td>0</td>\n",
       "      <td>0</td>\n",
       "      <td>61.717096</td>\n",
       "    </tr>\n",
       "    <tr>\n",
       "      <th>...</th>\n",
       "      <td>...</td>\n",
       "      <td>...</td>\n",
       "      <td>...</td>\n",
       "      <td>...</td>\n",
       "      <td>...</td>\n",
       "      <td>...</td>\n",
       "      <td>...</td>\n",
       "    </tr>\n",
       "    <tr>\n",
       "      <th>305809</th>\n",
       "      <td>20192020</td>\n",
       "      <td>2019021082</td>\n",
       "      <td>773</td>\n",
       "      <td>62.447188</td>\n",
       "      <td>0</td>\n",
       "      <td>0</td>\n",
       "      <td>25.942244</td>\n",
       "    </tr>\n",
       "    <tr>\n",
       "      <th>305810</th>\n",
       "      <td>20192020</td>\n",
       "      <td>2019021082</td>\n",
       "      <td>774</td>\n",
       "      <td>71.113913</td>\n",
       "      <td>0</td>\n",
       "      <td>0</td>\n",
       "      <td>40.162171</td>\n",
       "    </tr>\n",
       "    <tr>\n",
       "      <th>305811</th>\n",
       "      <td>20192020</td>\n",
       "      <td>2019021082</td>\n",
       "      <td>537</td>\n",
       "      <td>45.000000</td>\n",
       "      <td>0</td>\n",
       "      <td>0</td>\n",
       "      <td>14.142136</td>\n",
       "    </tr>\n",
       "    <tr>\n",
       "      <th>305812</th>\n",
       "      <td>20192020</td>\n",
       "      <td>2019021082</td>\n",
       "      <td>777</td>\n",
       "      <td>41.185925</td>\n",
       "      <td>0</td>\n",
       "      <td>0</td>\n",
       "      <td>10.630146</td>\n",
       "    </tr>\n",
       "    <tr>\n",
       "      <th>305813</th>\n",
       "      <td>20192020</td>\n",
       "      <td>2019021082</td>\n",
       "      <td>779</td>\n",
       "      <td>32.471192</td>\n",
       "      <td>0</td>\n",
       "      <td>0</td>\n",
       "      <td>26.076810</td>\n",
       "    </tr>\n",
       "  </tbody>\n",
       "</table>\n",
       "<p>305797 rows × 7 columns</p>\n",
       "</div>"
      ],
      "text/plain": [
       "          season     game_id  event_id      angle  is_goal  empty_net  \\\n",
       "0       20162017  2016020001         8  22.619865        0          0   \n",
       "1       20162017  2016020001        11  77.005383        0          0   \n",
       "2       20162017  2016020001        15  29.931512        0          0   \n",
       "3       20162017  2016020001        16  14.995079        0          0   \n",
       "4       20162017  2016020001        24  26.980231        0          0   \n",
       "...          ...         ...       ...        ...      ...        ...   \n",
       "305809  20192020  2019021082       773  62.447188        0          0   \n",
       "305810  20192020  2019021082       774  71.113913        0          0   \n",
       "305811  20192020  2019021082       537  45.000000        0          0   \n",
       "305812  20192020  2019021082       777  41.185925        0          0   \n",
       "305813  20192020  2019021082       779  32.471192        0          0   \n",
       "\n",
       "         distance  \n",
       "0       13.000000  \n",
       "1       13.341664  \n",
       "2       76.157731  \n",
       "3       57.974132  \n",
       "4       61.717096  \n",
       "...           ...  \n",
       "305809  25.942244  \n",
       "305810  40.162171  \n",
       "305811  14.142136  \n",
       "305812  10.630146  \n",
       "305813  26.076810  \n",
       "\n",
       "[305797 rows x 7 columns]"
      ]
     },
     "execution_count": 25,
     "metadata": {},
     "output_type": "execute_result"
    }
   ],
   "source": [
    "df_list = []\n",
    "for season in train_val_seasons:\n",
    "    df_list.append(get_wandb_data.load_season_dataframe(artifact_name=artifact_name, season=season))\n",
    "df_train_val = pd.concat(df_list, ignore_index=True)\n",
    "df_train_val = preprocess_feature_eng_1(df_train_val)\n",
    "df_train_val"
   ]
  },
  {
   "cell_type": "code",
   "execution_count": 28,
   "metadata": {},
   "outputs": [
    {
     "name": "stdout",
     "output_type": "stream",
     "text": [
      "Number of NaN values in distance: 0\n",
      "Number of NaN values in angle: 0\n"
     ]
    }
   ],
   "source": [
    "check_nan_values(df_train_val)"
   ]
  },
  {
   "cell_type": "code",
   "execution_count": 29,
   "metadata": {},
   "outputs": [
    {
     "data": {
      "text/html": [
       "<div>\n",
       "<style scoped>\n",
       "    .dataframe tbody tr th:only-of-type {\n",
       "        vertical-align: middle;\n",
       "    }\n",
       "\n",
       "    .dataframe tbody tr th {\n",
       "        vertical-align: top;\n",
       "    }\n",
       "\n",
       "    .dataframe thead th {\n",
       "        text-align: right;\n",
       "    }\n",
       "</style>\n",
       "<table border=\"1\" class=\"dataframe\">\n",
       "  <thead>\n",
       "    <tr style=\"text-align: right;\">\n",
       "      <th></th>\n",
       "      <th>season</th>\n",
       "      <th>game_id</th>\n",
       "      <th>event_id</th>\n",
       "      <th>angle</th>\n",
       "      <th>is_goal</th>\n",
       "      <th>empty_net</th>\n",
       "      <th>distance</th>\n",
       "    </tr>\n",
       "  </thead>\n",
       "  <tbody>\n",
       "    <tr>\n",
       "      <th>0</th>\n",
       "      <td>20202021</td>\n",
       "      <td>2020020001</td>\n",
       "      <td>53</td>\n",
       "      <td>62.650124</td>\n",
       "      <td>0</td>\n",
       "      <td>0</td>\n",
       "      <td>32.649655</td>\n",
       "    </tr>\n",
       "    <tr>\n",
       "      <th>1</th>\n",
       "      <td>20202021</td>\n",
       "      <td>2020020001</td>\n",
       "      <td>9</td>\n",
       "      <td>32.005383</td>\n",
       "      <td>0</td>\n",
       "      <td>0</td>\n",
       "      <td>47.169906</td>\n",
       "    </tr>\n",
       "    <tr>\n",
       "      <th>2</th>\n",
       "      <td>20202021</td>\n",
       "      <td>2020020001</td>\n",
       "      <td>55</td>\n",
       "      <td>39.957549</td>\n",
       "      <td>0</td>\n",
       "      <td>0</td>\n",
       "      <td>48.270074</td>\n",
       "    </tr>\n",
       "    <tr>\n",
       "      <th>3</th>\n",
       "      <td>20202021</td>\n",
       "      <td>2020020001</td>\n",
       "      <td>62</td>\n",
       "      <td>40.292148</td>\n",
       "      <td>0</td>\n",
       "      <td>0</td>\n",
       "      <td>60.307545</td>\n",
       "    </tr>\n",
       "    <tr>\n",
       "      <th>4</th>\n",
       "      <td>20202021</td>\n",
       "      <td>2020020001</td>\n",
       "      <td>65</td>\n",
       "      <td>12.528808</td>\n",
       "      <td>0</td>\n",
       "      <td>0</td>\n",
       "      <td>36.878178</td>\n",
       "    </tr>\n",
       "    <tr>\n",
       "      <th>...</th>\n",
       "      <td>...</td>\n",
       "      <td>...</td>\n",
       "      <td>...</td>\n",
       "      <td>...</td>\n",
       "      <td>...</td>\n",
       "      <td>...</td>\n",
       "      <td>...</td>\n",
       "    </tr>\n",
       "    <tr>\n",
       "      <th>52403</th>\n",
       "      <td>20202021</td>\n",
       "      <td>2020020868</td>\n",
       "      <td>490</td>\n",
       "      <td>41.633539</td>\n",
       "      <td>0</td>\n",
       "      <td>0</td>\n",
       "      <td>24.083189</td>\n",
       "    </tr>\n",
       "    <tr>\n",
       "      <th>52404</th>\n",
       "      <td>20202021</td>\n",
       "      <td>2020020868</td>\n",
       "      <td>498</td>\n",
       "      <td>33.690068</td>\n",
       "      <td>0</td>\n",
       "      <td>0</td>\n",
       "      <td>25.238859</td>\n",
       "    </tr>\n",
       "    <tr>\n",
       "      <th>52405</th>\n",
       "      <td>20202021</td>\n",
       "      <td>2020020868</td>\n",
       "      <td>500</td>\n",
       "      <td>18.434949</td>\n",
       "      <td>0</td>\n",
       "      <td>0</td>\n",
       "      <td>34.785054</td>\n",
       "    </tr>\n",
       "    <tr>\n",
       "      <th>52406</th>\n",
       "      <td>20202021</td>\n",
       "      <td>2020020868</td>\n",
       "      <td>751</td>\n",
       "      <td>20.556045</td>\n",
       "      <td>0</td>\n",
       "      <td>0</td>\n",
       "      <td>17.088007</td>\n",
       "    </tr>\n",
       "    <tr>\n",
       "      <th>52407</th>\n",
       "      <td>20202021</td>\n",
       "      <td>2020020868</td>\n",
       "      <td>753</td>\n",
       "      <td>49.085617</td>\n",
       "      <td>1</td>\n",
       "      <td>0</td>\n",
       "      <td>19.849433</td>\n",
       "    </tr>\n",
       "  </tbody>\n",
       "</table>\n",
       "<p>52408 rows × 7 columns</p>\n",
       "</div>"
      ],
      "text/plain": [
       "         season     game_id  event_id      angle  is_goal  empty_net  \\\n",
       "0      20202021  2020020001        53  62.650124        0          0   \n",
       "1      20202021  2020020001         9  32.005383        0          0   \n",
       "2      20202021  2020020001        55  39.957549        0          0   \n",
       "3      20202021  2020020001        62  40.292148        0          0   \n",
       "4      20202021  2020020001        65  12.528808        0          0   \n",
       "...         ...         ...       ...        ...      ...        ...   \n",
       "52403  20202021  2020020868       490  41.633539        0          0   \n",
       "52404  20202021  2020020868       498  33.690068        0          0   \n",
       "52405  20202021  2020020868       500  18.434949        0          0   \n",
       "52406  20202021  2020020868       751  20.556045        0          0   \n",
       "52407  20202021  2020020868       753  49.085617        1          0   \n",
       "\n",
       "        distance  \n",
       "0      32.649655  \n",
       "1      47.169906  \n",
       "2      48.270074  \n",
       "3      60.307545  \n",
       "4      36.878178  \n",
       "...          ...  \n",
       "52403  24.083189  \n",
       "52404  25.238859  \n",
       "52405  34.785054  \n",
       "52406  17.088007  \n",
       "52407  19.849433  \n",
       "\n",
       "[52408 rows x 7 columns]"
      ]
     },
     "execution_count": 29,
     "metadata": {},
     "output_type": "execute_result"
    }
   ],
   "source": [
    "df_test = get_wandb_data.load_season_dataframe(artifact_name=artifact_name, season=test_season)\n",
    "df_test = preprocess_feature_eng_1(df_test)\n",
    "df_test"
   ]
  },
  {
   "cell_type": "code",
   "execution_count": 30,
   "metadata": {},
   "outputs": [
    {
     "name": "stdout",
     "output_type": "stream",
     "text": [
      "Number of NaN values in distance: 0\n",
      "Number of NaN values in angle: 0\n"
     ]
    }
   ],
   "source": [
    "check_nan_values(df_test)"
   ]
  },
  {
   "cell_type": "code",
   "execution_count": 31,
   "metadata": {},
   "outputs": [
    {
     "name": "stdout",
     "output_type": "stream",
     "text": [
      "Number of duplicate rows: 0\n"
     ]
    }
   ],
   "source": [
    "duplicates = df_train_val.duplicated()\n",
    "print(f\"Number of duplicate rows: {duplicates.sum()}\")"
   ]
  },
  {
   "cell_type": "markdown",
   "metadata": {},
   "source": [
    "# publish train_val"
   ]
  },
  {
   "cell_type": "code",
   "execution_count": 32,
   "metadata": {},
   "outputs": [
    {
     "data": {
      "text/html": [
       "Tracking run with wandb version 0.18.5"
      ],
      "text/plain": [
       "<IPython.core.display.HTML object>"
      ]
     },
     "metadata": {},
     "output_type": "display_data"
    },
    {
     "data": {
      "text/html": [
       "Run data is saved locally in <code>c:\\Users\\dre\\Documents\\agrosante_udem\\cours\\data_science\\nhl project\\IFT-6758-project\\notebooks\\wandb\\run-20241121_150242-jan64gjy</code>"
      ],
      "text/plain": [
       "<IPython.core.display.HTML object>"
      ]
     },
     "metadata": {},
     "output_type": "display_data"
    },
    {
     "data": {
      "text/html": [
       "Syncing run <strong><a href='https://wandb.ai/IFT6758-2024-B05/IFT6758-2024-B05/runs/jan64gjy' target=\"_blank\">rename distance and angle columns</a></strong> to <a href='https://wandb.ai/IFT6758-2024-B05/IFT6758-2024-B05' target=\"_blank\">Weights & Biases</a> (<a href='https://wandb.me/run' target=\"_blank\">docs</a>)<br/>"
      ],
      "text/plain": [
       "<IPython.core.display.HTML object>"
      ]
     },
     "metadata": {},
     "output_type": "display_data"
    },
    {
     "data": {
      "text/html": [
       " View project at <a href='https://wandb.ai/IFT6758-2024-B05/IFT6758-2024-B05' target=\"_blank\">https://wandb.ai/IFT6758-2024-B05/IFT6758-2024-B05</a>"
      ],
      "text/plain": [
       "<IPython.core.display.HTML object>"
      ]
     },
     "metadata": {},
     "output_type": "display_data"
    },
    {
     "data": {
      "text/html": [
       " View run at <a href='https://wandb.ai/IFT6758-2024-B05/IFT6758-2024-B05/runs/jan64gjy' target=\"_blank\">https://wandb.ai/IFT6758-2024-B05/IFT6758-2024-B05/runs/jan64gjy</a>"
      ],
      "text/plain": [
       "<IPython.core.display.HTML object>"
      ]
     },
     "metadata": {},
     "output_type": "display_data"
    },
    {
     "data": {
      "application/vnd.jupyter.widget-view+json": {
       "model_id": "78d8d36b23014066a3741f48198d355a",
       "version_major": 2,
       "version_minor": 0
      },
      "text/plain": [
       "VBox(children=(Label(value='1.333 MB of 21.010 MB uploaded\\r'), FloatProgress(value=0.06343498966617991, max=1…"
      ]
     },
     "metadata": {},
     "output_type": "display_data"
    },
    {
     "data": {
      "text/html": [
       " View run <strong style=\"color:#cdcd00\">rename distance and angle columns</strong> at: <a href='https://wandb.ai/IFT6758-2024-B05/IFT6758-2024-B05/runs/jan64gjy' target=\"_blank\">https://wandb.ai/IFT6758-2024-B05/IFT6758-2024-B05/runs/jan64gjy</a><br/> View project at: <a href='https://wandb.ai/IFT6758-2024-B05/IFT6758-2024-B05' target=\"_blank\">https://wandb.ai/IFT6758-2024-B05/IFT6758-2024-B05</a><br/>Synced 4 W&B file(s), 0 media file(s), 7 artifact file(s) and 0 other file(s)"
      ],
      "text/plain": [
       "<IPython.core.display.HTML object>"
      ]
     },
     "metadata": {},
     "output_type": "display_data"
    },
    {
     "data": {
      "text/html": [
       "Find logs at: <code>.\\wandb\\run-20241121_150242-jan64gjy\\logs</code>"
      ],
      "text/plain": [
       "<IPython.core.display.HTML object>"
      ]
     },
     "metadata": {},
     "output_type": "display_data"
    }
   ],
   "source": [
    "api_key = os.getenv(\"WANDB_API_KEY\") # requires wandb API key in WANDB_API_KEY environment variable\n",
    "\n",
    "\n",
    "artifact_name = \"train_val_feature_eng_1\"\n",
    "run_name = \"rename distance and angle columns\" # goal of the run\n",
    "\n",
    "with wandb.init(name=run_name, project=\"IFT6758-2024-B05\", job_type=\"load-data\", config={\"seasons\": \"2016-2019\"}, tags=[\"feature_eng_1\", \"train_val\"]) as run:\n",
    "    artifact = wandb.Artifact(artifact_name, type='dataset', description='train val data with feature engineering 1')\n",
    "    for season in train_val_seasons:\n",
    "        fomatted_season = int(season.replace('-', '')) # 2016-2017 -> 20162017\n",
    "        train_val_table = wandb.Table(dataframe=df_train_val[df_train_val[\"season\"] == fomatted_season])\n",
    "        artifact.add(train_val_table, f\"train_val_{season}\")\n",
    "    run.log_artifact(artifact)\n",
    "\n",
    "# get artifact and add tags\n",
    "project_name=\"IFT6758-2024-B05\"\n",
    "api = wandb.Api()    \n",
    "artifact = api.artifact(f\"{project_name}/{artifact_name}:latest\")\n",
    "\n",
    "artifact.tags = [\"distance_from_net\", \"angle_from_net\", \"empty_net\", \"is_goal\"] # change tags if necessary\n",
    "artifact.save()"
   ]
  },
  {
   "cell_type": "markdown",
   "metadata": {},
   "source": [
    "# publish test"
   ]
  },
  {
   "cell_type": "code",
   "execution_count": 33,
   "metadata": {},
   "outputs": [
    {
     "data": {
      "text/html": [
       "Tracking run with wandb version 0.18.5"
      ],
      "text/plain": [
       "<IPython.core.display.HTML object>"
      ]
     },
     "metadata": {},
     "output_type": "display_data"
    },
    {
     "data": {
      "text/html": [
       "Run data is saved locally in <code>c:\\Users\\dre\\Documents\\agrosante_udem\\cours\\data_science\\nhl project\\IFT-6758-project\\notebooks\\wandb\\run-20241121_150417-cog1a3xv</code>"
      ],
      "text/plain": [
       "<IPython.core.display.HTML object>"
      ]
     },
     "metadata": {},
     "output_type": "display_data"
    },
    {
     "data": {
      "text/html": [
       "Syncing run <strong><a href='https://wandb.ai/IFT6758-2024-B05/IFT6758-2024-B05/runs/cog1a3xv' target=\"_blank\">rename distance and angle columns</a></strong> to <a href='https://wandb.ai/IFT6758-2024-B05/IFT6758-2024-B05' target=\"_blank\">Weights & Biases</a> (<a href='https://wandb.me/run' target=\"_blank\">docs</a>)<br/>"
      ],
      "text/plain": [
       "<IPython.core.display.HTML object>"
      ]
     },
     "metadata": {},
     "output_type": "display_data"
    },
    {
     "data": {
      "text/html": [
       " View project at <a href='https://wandb.ai/IFT6758-2024-B05/IFT6758-2024-B05' target=\"_blank\">https://wandb.ai/IFT6758-2024-B05/IFT6758-2024-B05</a>"
      ],
      "text/plain": [
       "<IPython.core.display.HTML object>"
      ]
     },
     "metadata": {},
     "output_type": "display_data"
    },
    {
     "data": {
      "text/html": [
       " View run at <a href='https://wandb.ai/IFT6758-2024-B05/IFT6758-2024-B05/runs/cog1a3xv' target=\"_blank\">https://wandb.ai/IFT6758-2024-B05/IFT6758-2024-B05/runs/cog1a3xv</a>"
      ],
      "text/plain": [
       "<IPython.core.display.HTML object>"
      ]
     },
     "metadata": {},
     "output_type": "display_data"
    },
    {
     "data": {
      "application/vnd.jupyter.widget-view+json": {
       "model_id": "d5aace2ff4f949cdbcfb08fdd42b25a3",
       "version_major": 2,
       "version_minor": 0
      },
      "text/plain": [
       "VBox(children=(Label(value='3.145 MB of 3.591 MB uploaded\\r'), FloatProgress(value=0.8758537906712415, max=1.0…"
      ]
     },
     "metadata": {},
     "output_type": "display_data"
    },
    {
     "data": {
      "text/html": [
       " View run <strong style=\"color:#cdcd00\">rename distance and angle columns</strong> at: <a href='https://wandb.ai/IFT6758-2024-B05/IFT6758-2024-B05/runs/cog1a3xv' target=\"_blank\">https://wandb.ai/IFT6758-2024-B05/IFT6758-2024-B05/runs/cog1a3xv</a><br/> View project at: <a href='https://wandb.ai/IFT6758-2024-B05/IFT6758-2024-B05' target=\"_blank\">https://wandb.ai/IFT6758-2024-B05/IFT6758-2024-B05</a><br/>Synced 5 W&B file(s), 0 media file(s), 2 artifact file(s) and 0 other file(s)"
      ],
      "text/plain": [
       "<IPython.core.display.HTML object>"
      ]
     },
     "metadata": {},
     "output_type": "display_data"
    },
    {
     "data": {
      "text/html": [
       "Find logs at: <code>.\\wandb\\run-20241121_150417-cog1a3xv\\logs</code>"
      ],
      "text/plain": [
       "<IPython.core.display.HTML object>"
      ]
     },
     "metadata": {},
     "output_type": "display_data"
    }
   ],
   "source": [
    "api_key = os.getenv(\"WANDB_API_KEY\") # requires wandb API key in WANDB_API_KEY environment variable\n",
    "\n",
    "\n",
    "artifact_name = \"test_set_feature_eng_1\"\n",
    "run_name = \"rename distance and angle columns\" # goal of the run\n",
    "\n",
    "with wandb.init(name=run_name, project=\"IFT6758-2024-B05\", job_type=\"load-data\", config={\"seasons\": \"2020\"}, tags=[\"feature_eng_1\", \"test_set\"]) as run:\n",
    "    artifact = wandb.Artifact(artifact_name, type='dataset', description='test set data with feature engineering 1')\n",
    "    fomatted_season = int(test_season.replace('-', ''))\n",
    "    test_table = wandb.Table(dataframe=df_test[df_test[\"season\"] == fomatted_season])\n",
    "    artifact.add(test_table, f\"test_{season}\")\n",
    "    run.log_artifact(artifact)\n",
    "\n",
    "# get artifact and add tags\n",
    "project_name=\"IFT6758-2024-B05\"\n",
    "api = wandb.Api()    \n",
    "artifact = api.artifact(f\"{project_name}/{artifact_name}:latest\")\n",
    "\n",
    "artifact.tags = [\"distance_from_net\", \"angle_from_net\", \"empty_net\", \"is_goal\"] # change tags if necessary\n",
    "artifact.save()"
   ]
  }
 ],
 "metadata": {
  "kernelspec": {
   "display_name": "ift-6758-lab-venv",
   "language": "python",
   "name": "python3"
  },
  "language_info": {
   "codemirror_mode": {
    "name": "ipython",
    "version": 3
   },
   "file_extension": ".py",
   "mimetype": "text/x-python",
   "name": "python",
   "nbconvert_exporter": "python",
   "pygments_lexer": "ipython3",
   "version": "3.12.3"
  }
 },
 "nbformat": 4,
 "nbformat_minor": 2
}

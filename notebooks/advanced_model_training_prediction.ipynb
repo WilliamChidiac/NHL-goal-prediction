{
 "cells": [
  {
   "cell_type": "code",
   "execution_count": 1,
   "metadata": {},
   "outputs": [],
   "source": [
    "import sys\n",
    "sys.path.append('..')\n",
    "from ift6758.models.advanced_model_training_prediction import CrossValidation\n",
    "\n"
   ]
  },
  {
   "cell_type": "code",
   "execution_count": null,
   "metadata": {},
   "outputs": [],
   "source": [
    "X = None\n",
    "y = None\n",
    "CrossValidation.generate_new_split(X, y, 5)\n"
   ]
  },
  {
   "cell_type": "code",
   "execution_count": null,
   "metadata": {},
   "outputs": [],
   "source": [
    "from sklearn.preprocessing import StandardScaler\n",
    "from sklearn.decomposition import PCA\n",
    "from xgboost import XGBClassifier, XGBRegressor\n",
    "task_instructions = {\n",
    "            \"model\": {\n",
    "                \"model\": XGBClassifier,\n",
    "                \"params\": {\n",
    "                    \"required\": [],\n",
    "                    \"optional\": {\n",
    "                        \"n_estimators\": 100,\n",
    "                        \"learning_rate\": 0.1,\n",
    "                        \"max_depth\": 6,\n",
    "                        \"min_child_weight\": 1,\n",
    "                        \"subsample\": 0.8,\n",
    "                        \"colsample_bytree\": 0.8,\n",
    "                        \"gamma\": 0,\n",
    "                        \"reg_alpha\": 0,\n",
    "                        \"reg_lambda\": 1,\n",
    "                        \"scale_pos_weight\": 1,\n",
    "                        \"objective\": \"binary:logistic\",\n",
    "                        \"eval_metric\": \"logloss\",\n",
    "                        \"use_label_encoder\": False\n",
    "                    }\n",
    "                },\n",
    "            },\n",
    "            \"transformation\": [\n",
    "                {\n",
    "                    \"transformation\": StandardScaler,\n",
    "                    \"params\": {\n",
    "                        \"required\": [],\n",
    "                        \"optional\": {}\n",
    "                    }\n",
    "                },\n",
    "                {\n",
    "                    \"transformation\": PCA,\n",
    "                    \"params\": {\n",
    "                        \"required\": [],\n",
    "                        \"optional\": {'n_components': 2}\n",
    "                    }\n",
    "                }\n",
    "            ],\n",
    "            \"hyperparameter\": {\n",
    "                \"path\": \"model.params.optional.n_estimators\",\n",
    "                \"values\": [10, 50, 100, 200, 500]\n",
    "            }\n",
    "        }\n",
    "\n",
    "CrossValidation.cross_validate(task_instructions)\n"
   ]
  }
 ],
 "metadata": {
  "kernelspec": {
   "display_name": ".venv",
   "language": "python",
   "name": "python3"
  },
  "language_info": {
   "codemirror_mode": {
    "name": "ipython",
    "version": 3
   },
   "file_extension": ".py",
   "mimetype": "text/x-python",
   "name": "python",
   "nbconvert_exporter": "python",
   "pygments_lexer": "ipython3",
   "version": "3.12.6"
  }
 },
 "nbformat": 4,
 "nbformat_minor": 2
}

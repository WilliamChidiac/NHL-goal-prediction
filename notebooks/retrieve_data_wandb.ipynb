{
 "cells": [
  {
   "cell_type": "code",
   "execution_count": 2,
   "metadata": {},
   "outputs": [],
   "source": [
    "import wandb\n",
    "import json\n",
    "import pandas as pd"
   ]
  },
  {
   "cell_type": "code",
   "execution_count": 1,
   "metadata": {},
   "outputs": [
    {
     "name": "stderr",
     "output_type": "stream",
     "text": [
      "wandb: Using wandb-core as the SDK backend. Please refer to https://wandb.me/wandb-core for more information.\n",
      "wandb: Downloading large artifact shot_events:latest, 98.23MB. 8 files... \n",
      "wandb:   8 of 8 files downloaded.  \n",
      "Done. 0:0:0.4\n"
     ]
    },
    {
     "name": "stdout",
     "output_type": "stream",
     "text": [
      "Artifact downloaded to: ../ift6758/data/wandb_artifacts/shot_events\n"
     ]
    }
   ],
   "source": [
    "api = wandb.Api()\n",
    "\n",
    "project_name = \"IFT6758-2024-B05\"\n",
    "artifact_name = \"shot_events:latest\"\n",
    "\n",
    "artifact = api.artifact(f\"{project_name}/{artifact_name}\")\n",
    "artifact_dir = artifact.download(root=f\"../ift6758/data/wandb_artifacts/shot_events\")\n",
    "\n",
    "print(f\"Artifact downloaded to: {artifact_dir}\")"
   ]
  },
  {
   "cell_type": "code",
   "execution_count": null,
   "metadata": {},
   "outputs": [],
   "source": [
    "with open(\"artifacts/shot_events-v2/2016-2017.table.json\", \"r\") as file:\n",
    "\ttable = json.load(file)\n",
    "\n",
    "df = pd.DataFrame(data=table['data'], columns=table['columns']) # https://community.wandb.ai/t/table-artifact-to-pandas-dataframe/2059"
   ]
  }
 ],
 "metadata": {
  "kernelspec": {
   "display_name": "ift-6758-lab-venv",
   "language": "python",
   "name": "python3"
  },
  "language_info": {
   "codemirror_mode": {
    "name": "ipython",
    "version": 3
   },
   "file_extension": ".py",
   "mimetype": "text/x-python",
   "name": "python",
   "nbconvert_exporter": "python",
   "pygments_lexer": "ipython3",
   "version": "3.12.3"
  }
 },
 "nbformat": 4,
 "nbformat_minor": 2
}

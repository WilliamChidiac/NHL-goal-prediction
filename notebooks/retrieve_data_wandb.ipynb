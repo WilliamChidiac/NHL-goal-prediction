{
 "cells": [
  {
   "cell_type": "code",
   "execution_count": 1,
   "metadata": {},
   "outputs": [],
   "source": [
    "from ift6758.data import wandb_handler"
   ]
  },
  {
   "cell_type": "markdown",
   "metadata": {},
   "source": [
    "# download data from wandb"
   ]
  },
  {
   "cell_type": "code",
   "execution_count": 2,
   "metadata": {},
   "outputs": [],
   "source": [
    "data_loader = wandb_handler.DataLoader(project_name=\"IFT6758-2024-B05\")\n"
   ]
  },
  {
   "cell_type": "markdown",
   "metadata": {},
   "source": [
    "# read 2016-2017 season to dataframe"
   ]
  },
  {
   "cell_type": "code",
   "execution_count": 3,
   "metadata": {},
   "outputs": [
    {
     "name": "stderr",
     "output_type": "stream",
     "text": [
      "wandb: Using wandb-core as the SDK backend. Please refer to https://wandb.me/wandb-core for more information.\n",
      "wandb:   4 of 4 files downloaded.  \n"
     ]
    },
    {
     "name": "stdout",
     "output_type": "stream",
     "text": [
      "Artifact downloaded to: ..\\ift6758\\data\\wandb_artifacts\\train_val_feature_eng_1\n"
     ]
    }
   ],
   "source": [
    "df = data_loader.load_season_dataframe(artifact_name=\"train_val_feature_eng_1\", artifact_version=\"v3\", season=\"2017-2018\")"
   ]
  },
  {
   "cell_type": "code",
   "execution_count": 4,
   "metadata": {},
   "outputs": [
    {
     "data": {
      "text/html": [
       "<div>\n",
       "<style scoped>\n",
       "    .dataframe tbody tr th:only-of-type {\n",
       "        vertical-align: middle;\n",
       "    }\n",
       "\n",
       "    .dataframe tbody tr th {\n",
       "        vertical-align: top;\n",
       "    }\n",
       "\n",
       "    .dataframe thead th {\n",
       "        text-align: right;\n",
       "    }\n",
       "</style>\n",
       "<table border=\"1\" class=\"dataframe\">\n",
       "  <thead>\n",
       "    <tr style=\"text-align: right;\">\n",
       "      <th></th>\n",
       "      <th>season</th>\n",
       "      <th>game_id</th>\n",
       "      <th>event_id</th>\n",
       "      <th>angle_from_net</th>\n",
       "      <th>is_goal</th>\n",
       "      <th>empty_net</th>\n",
       "      <th>distance_from_net</th>\n",
       "    </tr>\n",
       "  </thead>\n",
       "  <tbody>\n",
       "    <tr>\n",
       "      <th>0</th>\n",
       "      <td>20172018</td>\n",
       "      <td>2017020001</td>\n",
       "      <td>54</td>\n",
       "      <td>27.847578</td>\n",
       "      <td>0</td>\n",
       "      <td>0</td>\n",
       "      <td>59.941638</td>\n",
       "    </tr>\n",
       "    <tr>\n",
       "      <th>1</th>\n",
       "      <td>20172018</td>\n",
       "      <td>2017020001</td>\n",
       "      <td>55</td>\n",
       "      <td>4.085617</td>\n",
       "      <td>0</td>\n",
       "      <td>0</td>\n",
       "      <td>14.035669</td>\n",
       "    </tr>\n",
       "    <tr>\n",
       "      <th>2</th>\n",
       "      <td>20172018</td>\n",
       "      <td>2017020001</td>\n",
       "      <td>58</td>\n",
       "      <td>32.005383</td>\n",
       "      <td>0</td>\n",
       "      <td>0</td>\n",
       "      <td>18.867962</td>\n",
       "    </tr>\n",
       "    <tr>\n",
       "      <th>3</th>\n",
       "      <td>20172018</td>\n",
       "      <td>2017020001</td>\n",
       "      <td>62</td>\n",
       "      <td>18.434949</td>\n",
       "      <td>0</td>\n",
       "      <td>0</td>\n",
       "      <td>9.486833</td>\n",
       "    </tr>\n",
       "    <tr>\n",
       "      <th>4</th>\n",
       "      <td>20172018</td>\n",
       "      <td>2017020001</td>\n",
       "      <td>68</td>\n",
       "      <td>25.016893</td>\n",
       "      <td>0</td>\n",
       "      <td>0</td>\n",
       "      <td>49.658836</td>\n",
       "    </tr>\n",
       "    <tr>\n",
       "      <th>...</th>\n",
       "      <td>...</td>\n",
       "      <td>...</td>\n",
       "      <td>...</td>\n",
       "      <td>...</td>\n",
       "      <td>...</td>\n",
       "      <td>...</td>\n",
       "      <td>...</td>\n",
       "    </tr>\n",
       "    <tr>\n",
       "      <th>81868</th>\n",
       "      <td>20172018</td>\n",
       "      <td>2017021271</td>\n",
       "      <td>634</td>\n",
       "      <td>43.408860</td>\n",
       "      <td>0</td>\n",
       "      <td>0</td>\n",
       "      <td>50.931326</td>\n",
       "    </tr>\n",
       "    <tr>\n",
       "      <th>81869</th>\n",
       "      <td>20172018</td>\n",
       "      <td>2017021271</td>\n",
       "      <td>638</td>\n",
       "      <td>9.462322</td>\n",
       "      <td>1</td>\n",
       "      <td>0</td>\n",
       "      <td>60.827625</td>\n",
       "    </tr>\n",
       "    <tr>\n",
       "      <th>81870</th>\n",
       "      <td>20172018</td>\n",
       "      <td>2017021271</td>\n",
       "      <td>641</td>\n",
       "      <td>15.422161</td>\n",
       "      <td>0</td>\n",
       "      <td>0</td>\n",
       "      <td>60.166436</td>\n",
       "    </tr>\n",
       "    <tr>\n",
       "      <th>81871</th>\n",
       "      <td>20172018</td>\n",
       "      <td>2017021271</td>\n",
       "      <td>642</td>\n",
       "      <td>41.633539</td>\n",
       "      <td>0</td>\n",
       "      <td>0</td>\n",
       "      <td>12.041595</td>\n",
       "    </tr>\n",
       "    <tr>\n",
       "      <th>81872</th>\n",
       "      <td>20172018</td>\n",
       "      <td>2017021271</td>\n",
       "      <td>644</td>\n",
       "      <td>15.091573</td>\n",
       "      <td>1</td>\n",
       "      <td>1</td>\n",
       "      <td>92.179173</td>\n",
       "    </tr>\n",
       "  </tbody>\n",
       "</table>\n",
       "<p>81873 rows × 7 columns</p>\n",
       "</div>"
      ],
      "text/plain": [
       "         season     game_id  event_id  angle_from_net  is_goal  empty_net  \\\n",
       "0      20172018  2017020001        54       27.847578        0          0   \n",
       "1      20172018  2017020001        55        4.085617        0          0   \n",
       "2      20172018  2017020001        58       32.005383        0          0   \n",
       "3      20172018  2017020001        62       18.434949        0          0   \n",
       "4      20172018  2017020001        68       25.016893        0          0   \n",
       "...         ...         ...       ...             ...      ...        ...   \n",
       "81868  20172018  2017021271       634       43.408860        0          0   \n",
       "81869  20172018  2017021271       638        9.462322        1          0   \n",
       "81870  20172018  2017021271       641       15.422161        0          0   \n",
       "81871  20172018  2017021271       642       41.633539        0          0   \n",
       "81872  20172018  2017021271       644       15.091573        1          1   \n",
       "\n",
       "       distance_from_net  \n",
       "0              59.941638  \n",
       "1              14.035669  \n",
       "2              18.867962  \n",
       "3               9.486833  \n",
       "4              49.658836  \n",
       "...                  ...  \n",
       "81868          50.931326  \n",
       "81869          60.827625  \n",
       "81870          60.166436  \n",
       "81871          12.041595  \n",
       "81872          92.179173  \n",
       "\n",
       "[81873 rows x 7 columns]"
      ]
     },
     "execution_count": 4,
     "metadata": {},
     "output_type": "execute_result"
    }
   ],
   "source": [
    "df"
   ]
  },
  {
   "cell_type": "code",
   "execution_count": null,
   "metadata": {},
   "outputs": [],
   "source": []
  }
 ],
 "metadata": {
  "kernelspec": {
   "display_name": "ift-6758-lab-venv",
   "language": "python",
   "name": "python3"
  },
  "language_info": {
   "codemirror_mode": {
    "name": "ipython",
    "version": 3
   },
   "file_extension": ".py",
   "mimetype": "text/x-python",
   "name": "python",
   "nbconvert_exporter": "python",
   "pygments_lexer": "ipython3",
   "version": "3.12.3"
  }
 },
 "nbformat": 4,
 "nbformat_minor": 2
}
